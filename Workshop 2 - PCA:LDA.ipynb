{
 "cells": [
  {
   "cell_type": "code",
   "execution_count": 1,
   "metadata": {},
   "outputs": [],
   "source": [
    "import pandas as pd\n",
    "import numpy as np\n",
    "import matplotlib.pyplot as plt\n",
    "import seaborn as sns\n",
    "from sklearn.preprocessing import scale\n",
    "from sklearn.decomposition import PCA\n",
    "from sklearn.discriminant_analysis import LinearDiscriminantAnalysis\n",
    "from scipy import stats\n",
    "np.set_printoptions(suppress=True)\n",
    "DISPLAY_MAX_ROWS = 20 # number of max rows to print for a DataFrame\n",
    "pd.set_option('display.max_rows', DISPLAY_MAX_ROWS)"
   ]
  },
  {
   "cell_type": "code",
   "execution_count": 4,
   "metadata": {
    "collapsed": true
   },
   "outputs": [],
   "source": [
    "data = pd.read_csv(\"/Users/Elizabeth.Ke.Zhang/Desktop/NYU/9733 ML/Week 2/session2_data.csv\", header=None)\n",
    "data.columns = [\"V\"+str(i) for i in range(1, len(data.columns)+1)] # rename column names to be similar to R naming convention\n",
    "data.V1 = data.V1.astype(str)\n",
    "X = data.loc[:, \"V2\":] # independent variables data\n",
    "y = data.V1 # dependednt variable data"
   ]
  },
  {
   "cell_type": "code",
   "execution_count": 5,
   "metadata": {},
   "outputs": [
    {
     "name": "stdout",
     "output_type": "stream",
     "text": [
      "    V1     V2    V3    V4    V5   V6    V7    V8    V9   V10        V11   V12  \\\n",
      "0    1  14.23  1.71  2.43  15.6  127  2.80  3.06  0.28  2.29   5.640000  1.04   \n",
      "1    1  13.20  1.78  2.14  11.2  100  2.65  2.76  0.26  1.28   4.380000  1.05   \n",
      "2    1  13.16  2.36  2.67  18.6  101  2.80  3.24  0.30  2.81   5.680000  1.03   \n",
      "3    1  14.37  1.95  2.50  16.8  113  3.85  3.49  0.24  2.18   7.800000  0.86   \n",
      "4    1  13.24  2.59  2.87  21.0  118  2.80  2.69  0.39  1.82   4.320000  1.04   \n",
      "5    1  14.20  1.76  2.45  15.2  112  3.27  3.39  0.34  1.97   6.750000  1.05   \n",
      "6    1  14.39  1.87  2.45  14.6   96  2.50  2.52  0.30  1.98   5.250000  1.02   \n",
      "7    1  14.06  2.15  2.61  17.6  121  2.60  2.51  0.31  1.25   5.050000  1.06   \n",
      "8    1  14.83  1.64  2.17  14.0   97  2.80  2.98  0.29  1.98   5.200000  1.08   \n",
      "9    1  13.86  1.35  2.27  16.0   98  2.98  3.15  0.22  1.85   7.220000  1.01   \n",
      "..  ..    ...   ...   ...   ...  ...   ...   ...   ...   ...        ...   ...   \n",
      "168  3  13.58  2.58  2.69  24.5  105  1.55  0.84  0.39  1.54   8.660000  0.74   \n",
      "169  3  13.40  4.60  2.86  25.0  112  1.98  0.96  0.27  1.11   8.500000  0.67   \n",
      "170  3  12.20  3.03  2.32  19.0   96  1.25  0.49  0.40  0.73   5.500000  0.66   \n",
      "171  3  12.77  2.39  2.28  19.5   86  1.39  0.51  0.48  0.64   9.899999  0.57   \n",
      "172  3  14.16  2.51  2.48  20.0   91  1.68  0.70  0.44  1.24   9.700000  0.62   \n",
      "173  3  13.71  5.65  2.45  20.5   95  1.68  0.61  0.52  1.06   7.700000  0.64   \n",
      "174  3  13.40  3.91  2.48  23.0  102  1.80  0.75  0.43  1.41   7.300000  0.70   \n",
      "175  3  13.27  4.28  2.26  20.0  120  1.59  0.69  0.43  1.35  10.200000  0.59   \n",
      "176  3  13.17  2.59  2.37  20.0  120  1.65  0.68  0.53  1.46   9.300000  0.60   \n",
      "177  3  14.13  4.10  2.74  24.5   96  2.05  0.76  0.56  1.35   9.200000  0.61   \n",
      "\n",
      "      V13   V14  \n",
      "0    3.92  1065  \n",
      "1    3.40  1050  \n",
      "2    3.17  1185  \n",
      "3    3.45  1480  \n",
      "4    2.93   735  \n",
      "5    2.85  1450  \n",
      "6    3.58  1290  \n",
      "7    3.58  1295  \n",
      "8    2.85  1045  \n",
      "9    3.55  1045  \n",
      "..    ...   ...  \n",
      "168  1.80   750  \n",
      "169  1.92   630  \n",
      "170  1.83   510  \n",
      "171  1.63   470  \n",
      "172  1.71   660  \n",
      "173  1.74   740  \n",
      "174  1.56   750  \n",
      "175  1.56   835  \n",
      "176  1.62   840  \n",
      "177  1.60   560  \n",
      "\n",
      "[178 rows x 14 columns]\n"
     ]
    }
   ],
   "source": [
    "print(data)"
   ]
  },
  {
   "cell_type": "code",
   "execution_count": 6,
   "metadata": {},
   "outputs": [
    {
     "data": {
      "text/html": [
       "<div>\n",
       "<style>\n",
       "    .dataframe thead tr:only-child th {\n",
       "        text-align: right;\n",
       "    }\n",
       "\n",
       "    .dataframe thead th {\n",
       "        text-align: left;\n",
       "    }\n",
       "\n",
       "    .dataframe tbody tr th {\n",
       "        vertical-align: top;\n",
       "    }\n",
       "</style>\n",
       "<table border=\"1\" class=\"dataframe\">\n",
       "  <thead>\n",
       "    <tr style=\"text-align: right;\">\n",
       "      <th></th>\n",
       "      <th>V2</th>\n",
       "      <th>V3</th>\n",
       "      <th>V4</th>\n",
       "      <th>V5</th>\n",
       "      <th>V6</th>\n",
       "    </tr>\n",
       "  </thead>\n",
       "  <tbody>\n",
       "    <tr>\n",
       "      <th>0</th>\n",
       "      <td>14.23</td>\n",
       "      <td>1.71</td>\n",
       "      <td>2.43</td>\n",
       "      <td>15.6</td>\n",
       "      <td>127</td>\n",
       "    </tr>\n",
       "    <tr>\n",
       "      <th>1</th>\n",
       "      <td>13.20</td>\n",
       "      <td>1.78</td>\n",
       "      <td>2.14</td>\n",
       "      <td>11.2</td>\n",
       "      <td>100</td>\n",
       "    </tr>\n",
       "    <tr>\n",
       "      <th>2</th>\n",
       "      <td>13.16</td>\n",
       "      <td>2.36</td>\n",
       "      <td>2.67</td>\n",
       "      <td>18.6</td>\n",
       "      <td>101</td>\n",
       "    </tr>\n",
       "    <tr>\n",
       "      <th>3</th>\n",
       "      <td>14.37</td>\n",
       "      <td>1.95</td>\n",
       "      <td>2.50</td>\n",
       "      <td>16.8</td>\n",
       "      <td>113</td>\n",
       "    </tr>\n",
       "    <tr>\n",
       "      <th>4</th>\n",
       "      <td>13.24</td>\n",
       "      <td>2.59</td>\n",
       "      <td>2.87</td>\n",
       "      <td>21.0</td>\n",
       "      <td>118</td>\n",
       "    </tr>\n",
       "    <tr>\n",
       "      <th>5</th>\n",
       "      <td>14.20</td>\n",
       "      <td>1.76</td>\n",
       "      <td>2.45</td>\n",
       "      <td>15.2</td>\n",
       "      <td>112</td>\n",
       "    </tr>\n",
       "    <tr>\n",
       "      <th>6</th>\n",
       "      <td>14.39</td>\n",
       "      <td>1.87</td>\n",
       "      <td>2.45</td>\n",
       "      <td>14.6</td>\n",
       "      <td>96</td>\n",
       "    </tr>\n",
       "    <tr>\n",
       "      <th>7</th>\n",
       "      <td>14.06</td>\n",
       "      <td>2.15</td>\n",
       "      <td>2.61</td>\n",
       "      <td>17.6</td>\n",
       "      <td>121</td>\n",
       "    </tr>\n",
       "    <tr>\n",
       "      <th>8</th>\n",
       "      <td>14.83</td>\n",
       "      <td>1.64</td>\n",
       "      <td>2.17</td>\n",
       "      <td>14.0</td>\n",
       "      <td>97</td>\n",
       "    </tr>\n",
       "    <tr>\n",
       "      <th>9</th>\n",
       "      <td>13.86</td>\n",
       "      <td>1.35</td>\n",
       "      <td>2.27</td>\n",
       "      <td>16.0</td>\n",
       "      <td>98</td>\n",
       "    </tr>\n",
       "    <tr>\n",
       "      <th>...</th>\n",
       "      <td>...</td>\n",
       "      <td>...</td>\n",
       "      <td>...</td>\n",
       "      <td>...</td>\n",
       "      <td>...</td>\n",
       "    </tr>\n",
       "    <tr>\n",
       "      <th>168</th>\n",
       "      <td>13.58</td>\n",
       "      <td>2.58</td>\n",
       "      <td>2.69</td>\n",
       "      <td>24.5</td>\n",
       "      <td>105</td>\n",
       "    </tr>\n",
       "    <tr>\n",
       "      <th>169</th>\n",
       "      <td>13.40</td>\n",
       "      <td>4.60</td>\n",
       "      <td>2.86</td>\n",
       "      <td>25.0</td>\n",
       "      <td>112</td>\n",
       "    </tr>\n",
       "    <tr>\n",
       "      <th>170</th>\n",
       "      <td>12.20</td>\n",
       "      <td>3.03</td>\n",
       "      <td>2.32</td>\n",
       "      <td>19.0</td>\n",
       "      <td>96</td>\n",
       "    </tr>\n",
       "    <tr>\n",
       "      <th>171</th>\n",
       "      <td>12.77</td>\n",
       "      <td>2.39</td>\n",
       "      <td>2.28</td>\n",
       "      <td>19.5</td>\n",
       "      <td>86</td>\n",
       "    </tr>\n",
       "    <tr>\n",
       "      <th>172</th>\n",
       "      <td>14.16</td>\n",
       "      <td>2.51</td>\n",
       "      <td>2.48</td>\n",
       "      <td>20.0</td>\n",
       "      <td>91</td>\n",
       "    </tr>\n",
       "    <tr>\n",
       "      <th>173</th>\n",
       "      <td>13.71</td>\n",
       "      <td>5.65</td>\n",
       "      <td>2.45</td>\n",
       "      <td>20.5</td>\n",
       "      <td>95</td>\n",
       "    </tr>\n",
       "    <tr>\n",
       "      <th>174</th>\n",
       "      <td>13.40</td>\n",
       "      <td>3.91</td>\n",
       "      <td>2.48</td>\n",
       "      <td>23.0</td>\n",
       "      <td>102</td>\n",
       "    </tr>\n",
       "    <tr>\n",
       "      <th>175</th>\n",
       "      <td>13.27</td>\n",
       "      <td>4.28</td>\n",
       "      <td>2.26</td>\n",
       "      <td>20.0</td>\n",
       "      <td>120</td>\n",
       "    </tr>\n",
       "    <tr>\n",
       "      <th>176</th>\n",
       "      <td>13.17</td>\n",
       "      <td>2.59</td>\n",
       "      <td>2.37</td>\n",
       "      <td>20.0</td>\n",
       "      <td>120</td>\n",
       "    </tr>\n",
       "    <tr>\n",
       "      <th>177</th>\n",
       "      <td>14.13</td>\n",
       "      <td>4.10</td>\n",
       "      <td>2.74</td>\n",
       "      <td>24.5</td>\n",
       "      <td>96</td>\n",
       "    </tr>\n",
       "  </tbody>\n",
       "</table>\n",
       "<p>178 rows × 5 columns</p>\n",
       "</div>"
      ],
      "text/plain": [
       "        V2    V3    V4    V5   V6\n",
       "0    14.23  1.71  2.43  15.6  127\n",
       "1    13.20  1.78  2.14  11.2  100\n",
       "2    13.16  2.36  2.67  18.6  101\n",
       "3    14.37  1.95  2.50  16.8  113\n",
       "4    13.24  2.59  2.87  21.0  118\n",
       "5    14.20  1.76  2.45  15.2  112\n",
       "6    14.39  1.87  2.45  14.6   96\n",
       "7    14.06  2.15  2.61  17.6  121\n",
       "8    14.83  1.64  2.17  14.0   97\n",
       "9    13.86  1.35  2.27  16.0   98\n",
       "..     ...   ...   ...   ...  ...\n",
       "168  13.58  2.58  2.69  24.5  105\n",
       "169  13.40  4.60  2.86  25.0  112\n",
       "170  12.20  3.03  2.32  19.0   96\n",
       "171  12.77  2.39  2.28  19.5   86\n",
       "172  14.16  2.51  2.48  20.0   91\n",
       "173  13.71  5.65  2.45  20.5   95\n",
       "174  13.40  3.91  2.48  23.0  102\n",
       "175  13.27  4.28  2.26  20.0  120\n",
       "176  13.17  2.59  2.37  20.0  120\n",
       "177  14.13  4.10  2.74  24.5   96\n",
       "\n",
       "[178 rows x 5 columns]"
      ]
     },
     "execution_count": 6,
     "metadata": {},
     "output_type": "execute_result"
    }
   ],
   "source": [
    "data.loc[:,\"V2\":\"V6\"]"
   ]
  },
  {
   "cell_type": "code",
   "execution_count": 10,
   "metadata": {},
   "outputs": [
    {
     "name": "stderr",
     "output_type": "stream",
     "text": [
      "/Users/Elizabeth.Ke.Zhang/anaconda/lib/python3.6/site-packages/ipykernel_launcher.py:1: FutureWarning: 'pandas.tools.plotting.scatter_matrix' is deprecated, import 'pandas.plotting.scatter_matrix' instead.\n",
      "  \"\"\"Entry point for launching an IPython kernel.\n"
     ]
    },
    {
     "data": {
      "image/png": "[encoded data removed]",
      "text/plain": [
       "<matplotlib.figure.Figure at 0x10f473be0>"
      ]
     },
     "metadata": {},
     "output_type": "display_data"
    }
   ],
   "source": [
    "pd.tools.plotting.scatter_matrix(data.loc[:,\"V2\":\"V6\"], diagonal=\"kde\")\n",
    "plt.tight_layout()\n",
    "plt.show()"
   ]
  },
  {
   "cell_type": "code",
   "execution_count": 13,
   "metadata": {
    "scrolled": true
   },
   "outputs": [
    {
     "data": {
      "image/png": "[encoded data removed]",
      "text/plain": [
       "<matplotlib.figure.Figure at 0x10f6feba8>"
      ]
     },
     "metadata": {},
     "output_type": "display_data"
    }
   ],
   "source": [
    "sns.lmplot(\"V4\", \"V5\", data, hue=\"V1\", fit_reg=False)\n",
    "plt.show()"
   ]
  },
  {
   "cell_type": "code",
   "execution_count": 14,
   "metadata": {},
   "outputs": [
    {
     "data": {
      "image/png": "[encoded data removed]",
      "text/plain": [
       "<matplotlib.figure.Figure at 0x115ae4048>"
      ]
     },
     "metadata": {},
     "output_type": "display_data"
    }
   ],
   "source": [
    "ax = data[[\"V2\",\"V3\",\"V4\",\"V5\",\"V6\"]].plot()\n",
    "ax.legend(loc='center left', bbox_to_anchor=(1, 0.5));\n",
    "plt.show()"
   ]
  },
  {
   "cell_type": "code",
   "execution_count": 15,
   "metadata": {},
   "outputs": [
    {
     "data": {
      "text/plain": [
       "V2      13.000618\n",
       "V3       2.336348\n",
       "V4       2.366517\n",
       "V5      19.494944\n",
       "V6      99.741573\n",
       "V7       2.295112\n",
       "V8       2.029270\n",
       "V9       0.361854\n",
       "V10      1.590899\n",
       "V11      5.058090\n",
       "V12      0.957449\n",
       "V13      2.611685\n",
       "V14    746.893258\n",
       "dtype: float64"
      ]
     },
     "execution_count": 15,
     "metadata": {},
     "output_type": "execute_result"
    }
   ],
   "source": [
    "X.apply(np.mean)"
   ]
  },
  {
   "cell_type": "code",
   "execution_count": 16,
   "metadata": {},
   "outputs": [
    {
     "data": {
      "text/plain": [
       "V2       0.809543\n",
       "V3       1.114004\n",
       "V4       0.273572\n",
       "V5       3.330170\n",
       "V6      14.242308\n",
       "V7       0.624091\n",
       "V8       0.996049\n",
       "V9       0.124103\n",
       "V10      0.570749\n",
       "V11      2.311765\n",
       "V12      0.227929\n",
       "V13      0.707993\n",
       "V14    314.021657\n",
       "dtype: float64"
      ]
     },
     "execution_count": 16,
     "metadata": {},
     "output_type": "execute_result"
    }
   ],
   "source": [
    "X.apply(np.std)"
   ]
  },
  {
   "cell_type": "code",
   "execution_count": 17,
   "metadata": {},
   "outputs": [
    {
     "data": {
      "text/plain": [
       "V2       0.534162\n",
       "V3       1.008391\n",
       "V4       0.313238\n",
       "V5       3.326097\n",
       "V6      16.635097\n",
       "V7       0.541507\n",
       "V8       0.700713\n",
       "V9       0.123085\n",
       "V10      0.597813\n",
       "V11      0.918393\n",
       "V12      0.201503\n",
       "V13      0.493064\n",
       "V14    156.100173\n",
       "dtype: float64"
      ]
     },
     "execution_count": 17,
     "metadata": {},
     "output_type": "execute_result"
    }
   ],
   "source": [
    "class2data = data[y==\"2\"]\n",
    "class2data.loc[:, \"V2\":].apply(np.std)"
   ]
  },
  {
   "cell_type": "code",
   "execution_count": 18,
   "metadata": {
    "collapsed": true
   },
   "outputs": [],
   "source": [
    "def printMeanAndSdByGroup(variables, groupvariable):\n",
    "    data_groupby = variables.groupby(groupvariable)\n",
    "    print(\"## Means:\")\n",
    "    display(data_groupby.apply(np.mean))\n",
    "    print(\"\\n## Standard deviations:\")\n",
    "    display(data_groupby.apply(np.std)) \n",
    "    print(\"\\n## Sample sizes:\") \n",
    "    display(pd.DataFrame(data_groupby.apply(len))) "
   ]
  },
  {
   "cell_type": "code",
   "execution_count": 20,
   "metadata": {},
   "outputs": [
    {
     "name": "stdout",
     "output_type": "stream",
     "text": [
      "## Means:\n"
     ]
    },
    {
     "data": {
      "text/html": [
       "<div>\n",
       "<style>\n",
       "    .dataframe thead tr:only-child th {\n",
       "        text-align: right;\n",
       "    }\n",
       "\n",
       "    .dataframe thead th {\n",
       "        text-align: left;\n",
       "    }\n",
       "\n",
       "    .dataframe tbody tr th {\n",
       "        vertical-align: top;\n",
       "    }\n",
       "</style>\n",
       "<table border=\"1\" class=\"dataframe\">\n",
       "  <thead>\n",
       "    <tr style=\"text-align: right;\">\n",
       "      <th></th>\n",
       "      <th>V2</th>\n",
       "      <th>V3</th>\n",
       "      <th>V4</th>\n",
       "      <th>V5</th>\n",
       "      <th>V6</th>\n",
       "      <th>V7</th>\n",
       "      <th>V8</th>\n",
       "      <th>V9</th>\n",
       "      <th>V10</th>\n",
       "      <th>V11</th>\n",
       "      <th>V12</th>\n",
       "      <th>V13</th>\n",
       "      <th>V14</th>\n",
       "    </tr>\n",
       "    <tr>\n",
       "      <th>V1</th>\n",
       "      <th></th>\n",
       "      <th></th>\n",
       "      <th></th>\n",
       "      <th></th>\n",
       "      <th></th>\n",
       "      <th></th>\n",
       "      <th></th>\n",
       "      <th></th>\n",
       "      <th></th>\n",
       "      <th></th>\n",
       "      <th></th>\n",
       "      <th></th>\n",
       "      <th></th>\n",
       "    </tr>\n",
       "  </thead>\n",
       "  <tbody>\n",
       "    <tr>\n",
       "      <th>1</th>\n",
       "      <td>13.744746</td>\n",
       "      <td>2.010678</td>\n",
       "      <td>2.455593</td>\n",
       "      <td>17.037288</td>\n",
       "      <td>106.338983</td>\n",
       "      <td>2.840169</td>\n",
       "      <td>2.982373</td>\n",
       "      <td>0.290000</td>\n",
       "      <td>1.899322</td>\n",
       "      <td>5.528305</td>\n",
       "      <td>1.062034</td>\n",
       "      <td>3.157797</td>\n",
       "      <td>1115.711864</td>\n",
       "    </tr>\n",
       "    <tr>\n",
       "      <th>2</th>\n",
       "      <td>12.278732</td>\n",
       "      <td>1.932676</td>\n",
       "      <td>2.244789</td>\n",
       "      <td>20.238028</td>\n",
       "      <td>94.549296</td>\n",
       "      <td>2.258873</td>\n",
       "      <td>2.080845</td>\n",
       "      <td>0.363662</td>\n",
       "      <td>1.630282</td>\n",
       "      <td>3.086620</td>\n",
       "      <td>1.056282</td>\n",
       "      <td>2.785352</td>\n",
       "      <td>519.507042</td>\n",
       "    </tr>\n",
       "    <tr>\n",
       "      <th>3</th>\n",
       "      <td>13.153750</td>\n",
       "      <td>3.333750</td>\n",
       "      <td>2.437083</td>\n",
       "      <td>21.416667</td>\n",
       "      <td>99.312500</td>\n",
       "      <td>1.678750</td>\n",
       "      <td>0.781458</td>\n",
       "      <td>0.447500</td>\n",
       "      <td>1.153542</td>\n",
       "      <td>7.396250</td>\n",
       "      <td>0.682708</td>\n",
       "      <td>1.683542</td>\n",
       "      <td>629.895833</td>\n",
       "    </tr>\n",
       "  </tbody>\n",
       "</table>\n",
       "</div>"
      ],
      "text/plain": [
       "           V2        V3        V4         V5          V6        V7        V8  \\\n",
       "V1                                                                             \n",
       "1   13.744746  2.010678  2.455593  17.037288  106.338983  2.840169  2.982373   \n",
       "2   12.278732  1.932676  2.244789  20.238028   94.549296  2.258873  2.080845   \n",
       "3   13.153750  3.333750  2.437083  21.416667   99.312500  1.678750  0.781458   \n",
       "\n",
       "          V9       V10       V11       V12       V13          V14  \n",
       "V1                                                                 \n",
       "1   0.290000  1.899322  5.528305  1.062034  3.157797  1115.711864  \n",
       "2   0.363662  1.630282  3.086620  1.056282  2.785352   519.507042  \n",
       "3   0.447500  1.153542  7.396250  0.682708  1.683542   629.895833  "
      ]
     },
     "metadata": {},
     "output_type": "display_data"
    },
    {
     "name": "stdout",
     "output_type": "stream",
     "text": [
      "\n",
      "## Standard deviations:\n"
     ]
    },
    {
     "data": {
      "text/html": [
       "<div>\n",
       "<style>\n",
       "    .dataframe thead tr:only-child th {\n",
       "        text-align: right;\n",
       "    }\n",
       "\n",
       "    .dataframe thead th {\n",
       "        text-align: left;\n",
       "    }\n",
       "\n",
       "    .dataframe tbody tr th {\n",
       "        vertical-align: top;\n",
       "    }\n",
       "</style>\n",
       "<table border=\"1\" class=\"dataframe\">\n",
       "  <thead>\n",
       "    <tr style=\"text-align: right;\">\n",
       "      <th></th>\n",
       "      <th>V2</th>\n",
       "      <th>V3</th>\n",
       "      <th>V4</th>\n",
       "      <th>V5</th>\n",
       "      <th>V6</th>\n",
       "      <th>V7</th>\n",
       "      <th>V8</th>\n",
       "      <th>V9</th>\n",
       "      <th>V10</th>\n",
       "      <th>V11</th>\n",
       "      <th>V12</th>\n",
       "      <th>V13</th>\n",
       "      <th>V14</th>\n",
       "    </tr>\n",
       "    <tr>\n",
       "      <th>V1</th>\n",
       "      <th></th>\n",
       "      <th></th>\n",
       "      <th></th>\n",
       "      <th></th>\n",
       "      <th></th>\n",
       "      <th></th>\n",
       "      <th></th>\n",
       "      <th></th>\n",
       "      <th></th>\n",
       "      <th></th>\n",
       "      <th></th>\n",
       "      <th></th>\n",
       "      <th></th>\n",
       "    </tr>\n",
       "  </thead>\n",
       "  <tbody>\n",
       "    <tr>\n",
       "      <th>1</th>\n",
       "      <td>0.458192</td>\n",
       "      <td>0.682689</td>\n",
       "      <td>0.225233</td>\n",
       "      <td>2.524651</td>\n",
       "      <td>10.409595</td>\n",
       "      <td>0.336077</td>\n",
       "      <td>0.394111</td>\n",
       "      <td>0.069453</td>\n",
       "      <td>0.408602</td>\n",
       "      <td>1.228032</td>\n",
       "      <td>0.115491</td>\n",
       "      <td>0.354038</td>\n",
       "      <td>219.635449</td>\n",
       "    </tr>\n",
       "    <tr>\n",
       "      <th>2</th>\n",
       "      <td>0.534162</td>\n",
       "      <td>1.008391</td>\n",
       "      <td>0.313238</td>\n",
       "      <td>3.326097</td>\n",
       "      <td>16.635097</td>\n",
       "      <td>0.541507</td>\n",
       "      <td>0.700713</td>\n",
       "      <td>0.123085</td>\n",
       "      <td>0.597813</td>\n",
       "      <td>0.918393</td>\n",
       "      <td>0.201503</td>\n",
       "      <td>0.493064</td>\n",
       "      <td>156.100173</td>\n",
       "    </tr>\n",
       "    <tr>\n",
       "      <th>3</th>\n",
       "      <td>0.524689</td>\n",
       "      <td>1.076514</td>\n",
       "      <td>0.182756</td>\n",
       "      <td>2.234515</td>\n",
       "      <td>10.776433</td>\n",
       "      <td>0.353233</td>\n",
       "      <td>0.290431</td>\n",
       "      <td>0.122840</td>\n",
       "      <td>0.404555</td>\n",
       "      <td>2.286743</td>\n",
       "      <td>0.113243</td>\n",
       "      <td>0.269262</td>\n",
       "      <td>113.891805</td>\n",
       "    </tr>\n",
       "  </tbody>\n",
       "</table>\n",
       "</div>"
      ],
      "text/plain": [
       "          V2        V3        V4        V5         V6        V7        V8  \\\n",
       "V1                                                                          \n",
       "1   0.458192  0.682689  0.225233  2.524651  10.409595  0.336077  0.394111   \n",
       "2   0.534162  1.008391  0.313238  3.326097  16.635097  0.541507  0.700713   \n",
       "3   0.524689  1.076514  0.182756  2.234515  10.776433  0.353233  0.290431   \n",
       "\n",
       "          V9       V10       V11       V12       V13         V14  \n",
       "V1                                                                \n",
       "1   0.069453  0.408602  1.228032  0.115491  0.354038  219.635449  \n",
       "2   0.123085  0.597813  0.918393  0.201503  0.493064  156.100173  \n",
       "3   0.122840  0.404555  2.286743  0.113243  0.269262  113.891805  "
      ]
     },
     "metadata": {},
     "output_type": "display_data"
    },
    {
     "name": "stdout",
     "output_type": "stream",
     "text": [
      "\n",
      "## Sample sizes:\n"
     ]
    },
    {
     "data": {
      "text/html": [
       "<div>\n",
       "<style>\n",
       "    .dataframe thead tr:only-child th {\n",
       "        text-align: right;\n",
       "    }\n",
       "\n",
       "    .dataframe thead th {\n",
       "        text-align: left;\n",
       "    }\n",
       "\n",
       "    .dataframe tbody tr th {\n",
       "        vertical-align: top;\n",
       "    }\n",
       "</style>\n",
       "<table border=\"1\" class=\"dataframe\">\n",
       "  <thead>\n",
       "    <tr style=\"text-align: right;\">\n",
       "      <th></th>\n",
       "      <th>0</th>\n",
       "    </tr>\n",
       "    <tr>\n",
       "      <th>V1</th>\n",
       "      <th></th>\n",
       "    </tr>\n",
       "  </thead>\n",
       "  <tbody>\n",
       "    <tr>\n",
       "      <th>1</th>\n",
       "      <td>59</td>\n",
       "    </tr>\n",
       "    <tr>\n",
       "      <th>2</th>\n",
       "      <td>71</td>\n",
       "    </tr>\n",
       "    <tr>\n",
       "      <th>3</th>\n",
       "      <td>48</td>\n",
       "    </tr>\n",
       "  </tbody>\n",
       "</table>\n",
       "</div>"
      ],
      "text/plain": [
       "     0\n",
       "V1    \n",
       "1   59\n",
       "2   71\n",
       "3   48"
      ]
     },
     "metadata": {},
     "output_type": "display_data"
    }
   ],
   "source": [
    "printMeanAndSdByGroup(X,y)"
   ]
  },
  {
   "cell_type": "code",
   "execution_count": 21,
   "metadata": {
    "collapsed": true
   },
   "outputs": [],
   "source": [
    "def calcWithinGroupsVariance(variable, groupvariable): \n",
    "    # find out how many values the group variable can take \n",
    "    levels = sorted(set(groupvariable)) \n",
    "    numlevels = len(levels) \n",
    "    # get the mean and standard deviation for each group: \n",
    "    numtotal = 0 \n",
    "    denomtotal = 0 \n",
    "    for leveli in levels: \n",
    "        levelidata = variable[groupvariable==leveli] \n",
    "        levelilength = len(levelidata) \n",
    "        # get the standard deviation for group i: \n",
    "        sdi = np.std(levelidata) \n",
    "        numi = (levelilength)*sdi**2 \n",
    "        denomi = levelilength \n",
    "        numtotal = numtotal + numi \n",
    "        denomtotal = denomtotal + denomi \n",
    "    # calculate the within-groups variance \n",
    "    Vw = numtotal / (denomtotal - numlevels) \n",
    "    return Vw"
   ]
  },
  {
   "cell_type": "code",
   "execution_count": 22,
   "metadata": {},
   "outputs": [
    {
     "data": {
      "text/plain": [
       "0.2620524691539065"
      ]
     },
     "execution_count": 22,
     "metadata": {},
     "output_type": "execute_result"
    }
   ],
   "source": [
    "calcWithinGroupsVariance(X.V2, y)"
   ]
  },
  {
   "cell_type": "code",
   "execution_count": 23,
   "metadata": {
    "collapsed": true
   },
   "outputs": [],
   "source": [
    "def calcBetweenGroupsVariance(variable, groupvariable): \n",
    "    # find out how many values the group variable can take \n",
    "    levels = sorted(set((groupvariable))) \n",
    "    numlevels = len(levels) \n",
    "    # calculate the overall grand mean: \n",
    "    grandmean = np.mean(variable) \n",
    "    # get the mean and standard deviation for each group: \n",
    "    numtotal = 0 \n",
    "    denomtotal = 0 \n",
    "    for leveli in levels: \n",
    "        levelidata = variable[groupvariable==leveli] \n",
    "        levelilength = len(levelidata) \n",
    "        # get the mean and standard deviation for group i: \n",
    "        meani = np.mean(levelidata) \n",
    "        sdi = np.std(levelidata) \n",
    "        numi = levelilength * ((meani - grandmean)**2) \n",
    "        denomi = levelilength \n",
    "        numtotal = numtotal + numi \n",
    "        denomtotal = denomtotal + denomi \n",
    "    # calculate the between-groups variance \n",
    "    Vb = numtotal / (numlevels - 1) \n",
    "    return(Vb)"
   ]
  },
  {
   "cell_type": "code",
   "execution_count": 24,
   "metadata": {},
   "outputs": [
    {
     "data": {
      "text/plain": [
       "35.397424960269106"
      ]
     },
     "execution_count": 24,
     "metadata": {},
     "output_type": "execute_result"
    }
   ],
   "source": [
    "calcBetweenGroupsVariance(X.V2, y)"
   ]
  },
  {
   "cell_type": "code",
   "execution_count": 25,
   "metadata": {},
   "outputs": [
    {
     "data": {
      "text/plain": [
       "135.07762424279917"
      ]
     },
     "execution_count": 25,
     "metadata": {},
     "output_type": "execute_result"
    }
   ],
   "source": [
    "calcBetweenGroupsVariance(X.V2, y) / calcWithinGroupsVariance(X.V2, y)"
   ]
  },
  {
   "cell_type": "code",
   "execution_count": 26,
   "metadata": {
    "collapsed": true
   },
   "outputs": [],
   "source": [
    "def calcSeparations(variables, groupvariable):\n",
    "    # calculate the separation for each variable \n",
    "    for variablename in variables: \n",
    "        variablei = variables[variablename] \n",
    "        Vw = calcWithinGroupsVariance(variablei, groupvariable) \n",
    "        Vb = calcBetweenGroupsVariance(variablei, groupvariable) \n",
    "        sep = Vb/Vw \n",
    "        print(\"variable\", variablename, \"Vw=\", Vw, \"Vb=\", Vb, \"separation=\", sep)"
   ]
  },
  {
   "cell_type": "code",
   "execution_count": 27,
   "metadata": {},
   "outputs": [
    {
     "name": "stdout",
     "output_type": "stream",
     "text": [
      "variable V2 Vw= 0.2620524691539065 Vb= 35.397424960269106 separation= 135.07762424279917\n",
      "variable V3 Vw= 0.8875467967465813 Vb= 32.789018486921364 separation= 36.94342496318368\n",
      "variable V4 Vw= 0.0660721013425184 Vb= 0.8796113572487572 separation= 13.312901199991257\n",
      "variable V5 Vw= 8.006811181211566 Vb= 286.41674636308926 separation= 35.77163740730921\n",
      "variable V6 Vw= 180.65777316441023 Vb= 2245.50102788939 separation= 12.429584338149898\n",
      "variable V7 Vw= 0.1912704752242267 Vb= 17.92835729428464 separation= 93.73300962036717\n",
      "variable V8 Vw= 0.274707514337437 Vb= 64.26119502356416 separation= 233.92587268154927\n",
      "variable V9 Vw= 0.011911702213279677 Vb= 0.32847015746162356 separation= 27.575417146965858\n",
      "variable V10 Vw= 0.2461729437955417 Vb= 7.451995507777756 separation= 30.27138317022764\n",
      "variable V11 Vw= 2.2849230813335426 Vb= 275.7080008223043 separation= 120.66401844100315\n",
      "variable V12 Vw= 0.024487646943241362 Vb= 2.4810099149382907 separation= 101.31679539030002\n",
      "variable V13 Vw= 0.16077872956098171 Vb= 30.543508354425363 separation= 189.97232057888928\n",
      "variable V14 Vw= 29707.68187051689 Vb= 6176832.322284826 separation= 207.92037390217797\n"
     ]
    }
   ],
   "source": [
    "calcSeparations(X, y)"
   ]
  },
  {
   "cell_type": "code",
   "execution_count": 30,
   "metadata": {
    "collapsed": true
   },
   "outputs": [],
   "source": [
    "def calcWithinGroupsCovariance(variable1, variable2, groupvariable):\n",
    "    levels = sorted(set(groupvariable))\n",
    "    numlevels = len(levels)\n",
    "    Covw = 0.0 \n",
    "    # get the covariance of variable 1 and variable 2 for each group:\n",
    "    for leveli in levels: \n",
    "        levelidata1 = variable1[groupvariable==leveli] \n",
    "        levelidata2 = variable2[groupvariable==leveli] \n",
    "        mean1 = np.mean(levelidata1) \n",
    "        mean2 = np.mean(levelidata2) \n",
    "        levelilength = len(levelidata1) \n",
    "        # get the covariance for this group: \n",
    "        term1 = 0.0 \n",
    "        for levelidata1j, levelidata2j in zip(levelidata1, levelidata2): \n",
    "            term1 += (levelidata1j - mean1)*(levelidata2j - mean2) \n",
    "        Cov_groupi = term1 \n",
    "        # covariance for this group \n",
    "        Covw += Cov_groupi \n",
    "    totallength = len(variable1) \n",
    "    Covw /= totallength - numlevels \n",
    "    return Covw"
   ]
  },
  {
   "cell_type": "code",
   "execution_count": 31,
   "metadata": {},
   "outputs": [
    {
     "data": {
      "text/plain": [
       "0.28667830215140183"
      ]
     },
     "execution_count": 31,
     "metadata": {},
     "output_type": "execute_result"
    }
   ],
   "source": [
    "calcWithinGroupsCovariance(X.V8, X.V11, y)"
   ]
  },
  {
   "cell_type": "code",
   "execution_count": 32,
   "metadata": {
    "collapsed": true
   },
   "outputs": [],
   "source": [
    "def calcBetweenGroupsCovariance(variable1, variable2, groupvariable):\n",
    "    # find out how many values the group variable can take \n",
    "    levels = sorted(set(groupvariable)) \n",
    "    numlevels = len(levels) \n",
    "    # calculate the grand means \n",
    "    variable1mean = np.mean(variable1) \n",
    "    variable2mean = np.mean(variable2) \n",
    "    # calculate the between-groups covariance \n",
    "    Covb = 0.0 \n",
    "    for leveli in levels: \n",
    "        levelidata1 = variable1[groupvariable==leveli] \n",
    "        levelidata2 = variable2[groupvariable==leveli] \n",
    "        mean1 = np.mean(levelidata1) \n",
    "        mean2 = np.mean(levelidata2) \n",
    "        levelilength = len(levelidata1) \n",
    "        term1 = (mean1 - variable1mean) * (mean2 - variable2mean) * levelilength \n",
    "        Covb += term1 \n",
    "    Covb /= numlevels - 1 \n",
    "    return Covb"
   ]
  },
  {
   "cell_type": "code",
   "execution_count": 33,
   "metadata": {},
   "outputs": [
    {
     "data": {
      "text/plain": [
       "-60.4107748359163"
      ]
     },
     "execution_count": 33,
     "metadata": {},
     "output_type": "execute_result"
    }
   ],
   "source": [
    "calcBetweenGroupsCovariance(X.V8, X.V11, y)"
   ]
  },
  {
   "cell_type": "code",
   "execution_count": 34,
   "metadata": {},
   "outputs": [
    {
     "name": "stdout",
     "output_type": "stream",
     "text": [
      "p-value:\t 0.210081985971\n",
      "cor:\t\t 0.0943969409104\n"
     ]
    }
   ],
   "source": [
    "corr = stats.pearsonr(X.V2, X.V3)\n",
    "print(\"p-value:\\t\", corr[1]) \n",
    "print(\"cor:\\t\\t\", corr[0])"
   ]
  },
  {
   "cell_type": "code",
   "execution_count": 35,
   "metadata": {},
   "outputs": [
    {
     "data": {
      "text/html": [
       "<div>\n",
       "<style>\n",
       "    .dataframe thead tr:only-child th {\n",
       "        text-align: right;\n",
       "    }\n",
       "\n",
       "    .dataframe thead th {\n",
       "        text-align: left;\n",
       "    }\n",
       "\n",
       "    .dataframe tbody tr th {\n",
       "        vertical-align: top;\n",
       "    }\n",
       "</style>\n",
       "<table border=\"1\" class=\"dataframe\">\n",
       "  <thead>\n",
       "    <tr style=\"text-align: right;\">\n",
       "      <th></th>\n",
       "      <th>V2</th>\n",
       "      <th>V3</th>\n",
       "      <th>V4</th>\n",
       "      <th>V5</th>\n",
       "      <th>V6</th>\n",
       "      <th>V7</th>\n",
       "      <th>V8</th>\n",
       "      <th>V9</th>\n",
       "      <th>V10</th>\n",
       "      <th>V11</th>\n",
       "      <th>V12</th>\n",
       "      <th>V13</th>\n",
       "      <th>V14</th>\n",
       "    </tr>\n",
       "  </thead>\n",
       "  <tbody>\n",
       "    <tr>\n",
       "      <th>V2</th>\n",
       "      <td>1.000000</td>\n",
       "      <td>0.094397</td>\n",
       "      <td>0.211545</td>\n",
       "      <td>-0.310235</td>\n",
       "      <td>0.270798</td>\n",
       "      <td>0.289101</td>\n",
       "      <td>0.236815</td>\n",
       "      <td>-0.155929</td>\n",
       "      <td>0.136698</td>\n",
       "      <td>0.546364</td>\n",
       "      <td>-0.071747</td>\n",
       "      <td>0.072343</td>\n",
       "      <td>0.643720</td>\n",
       "    </tr>\n",
       "    <tr>\n",
       "      <th>V3</th>\n",
       "      <td>0.094397</td>\n",
       "      <td>1.000000</td>\n",
       "      <td>0.164045</td>\n",
       "      <td>0.288500</td>\n",
       "      <td>-0.054575</td>\n",
       "      <td>-0.335167</td>\n",
       "      <td>-0.411007</td>\n",
       "      <td>0.292977</td>\n",
       "      <td>-0.220746</td>\n",
       "      <td>0.248985</td>\n",
       "      <td>-0.561296</td>\n",
       "      <td>-0.368710</td>\n",
       "      <td>-0.192011</td>\n",
       "    </tr>\n",
       "    <tr>\n",
       "      <th>V4</th>\n",
       "      <td>0.211545</td>\n",
       "      <td>0.164045</td>\n",
       "      <td>1.000000</td>\n",
       "      <td>0.443367</td>\n",
       "      <td>0.286587</td>\n",
       "      <td>0.128980</td>\n",
       "      <td>0.115077</td>\n",
       "      <td>0.186230</td>\n",
       "      <td>0.009652</td>\n",
       "      <td>0.258887</td>\n",
       "      <td>-0.074667</td>\n",
       "      <td>0.003911</td>\n",
       "      <td>0.223626</td>\n",
       "    </tr>\n",
       "    <tr>\n",
       "      <th>V5</th>\n",
       "      <td>-0.310235</td>\n",
       "      <td>0.288500</td>\n",
       "      <td>0.443367</td>\n",
       "      <td>1.000000</td>\n",
       "      <td>-0.083333</td>\n",
       "      <td>-0.321113</td>\n",
       "      <td>-0.351370</td>\n",
       "      <td>0.361922</td>\n",
       "      <td>-0.197327</td>\n",
       "      <td>0.018732</td>\n",
       "      <td>-0.273955</td>\n",
       "      <td>-0.276769</td>\n",
       "      <td>-0.440597</td>\n",
       "    </tr>\n",
       "    <tr>\n",
       "      <th>V6</th>\n",
       "      <td>0.270798</td>\n",
       "      <td>-0.054575</td>\n",
       "      <td>0.286587</td>\n",
       "      <td>-0.083333</td>\n",
       "      <td>1.000000</td>\n",
       "      <td>0.214401</td>\n",
       "      <td>0.195784</td>\n",
       "      <td>-0.256294</td>\n",
       "      <td>0.236441</td>\n",
       "      <td>0.199950</td>\n",
       "      <td>0.055398</td>\n",
       "      <td>0.066004</td>\n",
       "      <td>0.393351</td>\n",
       "    </tr>\n",
       "    <tr>\n",
       "      <th>V7</th>\n",
       "      <td>0.289101</td>\n",
       "      <td>-0.335167</td>\n",
       "      <td>0.128980</td>\n",
       "      <td>-0.321113</td>\n",
       "      <td>0.214401</td>\n",
       "      <td>1.000000</td>\n",
       "      <td>0.864564</td>\n",
       "      <td>-0.449935</td>\n",
       "      <td>0.612413</td>\n",
       "      <td>-0.055136</td>\n",
       "      <td>0.433681</td>\n",
       "      <td>0.699949</td>\n",
       "      <td>0.498115</td>\n",
       "    </tr>\n",
       "    <tr>\n",
       "      <th>V8</th>\n",
       "      <td>0.236815</td>\n",
       "      <td>-0.411007</td>\n",
       "      <td>0.115077</td>\n",
       "      <td>-0.351370</td>\n",
       "      <td>0.195784</td>\n",
       "      <td>0.864564</td>\n",
       "      <td>1.000000</td>\n",
       "      <td>-0.537900</td>\n",
       "      <td>0.652692</td>\n",
       "      <td>-0.172379</td>\n",
       "      <td>0.543479</td>\n",
       "      <td>0.787194</td>\n",
       "      <td>0.494193</td>\n",
       "    </tr>\n",
       "    <tr>\n",
       "      <th>V9</th>\n",
       "      <td>-0.155929</td>\n",
       "      <td>0.292977</td>\n",
       "      <td>0.186230</td>\n",
       "      <td>0.361922</td>\n",
       "      <td>-0.256294</td>\n",
       "      <td>-0.449935</td>\n",
       "      <td>-0.537900</td>\n",
       "      <td>1.000000</td>\n",
       "      <td>-0.365845</td>\n",
       "      <td>0.139057</td>\n",
       "      <td>-0.262640</td>\n",
       "      <td>-0.503270</td>\n",
       "      <td>-0.311385</td>\n",
       "    </tr>\n",
       "    <tr>\n",
       "      <th>V10</th>\n",
       "      <td>0.136698</td>\n",
       "      <td>-0.220746</td>\n",
       "      <td>0.009652</td>\n",
       "      <td>-0.197327</td>\n",
       "      <td>0.236441</td>\n",
       "      <td>0.612413</td>\n",
       "      <td>0.652692</td>\n",
       "      <td>-0.365845</td>\n",
       "      <td>1.000000</td>\n",
       "      <td>-0.025250</td>\n",
       "      <td>0.295544</td>\n",
       "      <td>0.519067</td>\n",
       "      <td>0.330417</td>\n",
       "    </tr>\n",
       "    <tr>\n",
       "      <th>V11</th>\n",
       "      <td>0.546364</td>\n",
       "      <td>0.248985</td>\n",
       "      <td>0.258887</td>\n",
       "      <td>0.018732</td>\n",
       "      <td>0.199950</td>\n",
       "      <td>-0.055136</td>\n",
       "      <td>-0.172379</td>\n",
       "      <td>0.139057</td>\n",
       "      <td>-0.025250</td>\n",
       "      <td>1.000000</td>\n",
       "      <td>-0.521813</td>\n",
       "      <td>-0.428815</td>\n",
       "      <td>0.316100</td>\n",
       "    </tr>\n",
       "    <tr>\n",
       "      <th>V12</th>\n",
       "      <td>-0.071747</td>\n",
       "      <td>-0.561296</td>\n",
       "      <td>-0.074667</td>\n",
       "      <td>-0.273955</td>\n",
       "      <td>0.055398</td>\n",
       "      <td>0.433681</td>\n",
       "      <td>0.543479</td>\n",
       "      <td>-0.262640</td>\n",
       "      <td>0.295544</td>\n",
       "      <td>-0.521813</td>\n",
       "      <td>1.000000</td>\n",
       "      <td>0.565468</td>\n",
       "      <td>0.236183</td>\n",
       "    </tr>\n",
       "    <tr>\n",
       "      <th>V13</th>\n",
       "      <td>0.072343</td>\n",
       "      <td>-0.368710</td>\n",
       "      <td>0.003911</td>\n",
       "      <td>-0.276769</td>\n",
       "      <td>0.066004</td>\n",
       "      <td>0.699949</td>\n",
       "      <td>0.787194</td>\n",
       "      <td>-0.503270</td>\n",
       "      <td>0.519067</td>\n",
       "      <td>-0.428815</td>\n",
       "      <td>0.565468</td>\n",
       "      <td>1.000000</td>\n",
       "      <td>0.312761</td>\n",
       "    </tr>\n",
       "    <tr>\n",
       "      <th>V14</th>\n",
       "      <td>0.643720</td>\n",
       "      <td>-0.192011</td>\n",
       "      <td>0.223626</td>\n",
       "      <td>-0.440597</td>\n",
       "      <td>0.393351</td>\n",
       "      <td>0.498115</td>\n",
       "      <td>0.494193</td>\n",
       "      <td>-0.311385</td>\n",
       "      <td>0.330417</td>\n",
       "      <td>0.316100</td>\n",
       "      <td>0.236183</td>\n",
       "      <td>0.312761</td>\n",
       "      <td>1.000000</td>\n",
       "    </tr>\n",
       "  </tbody>\n",
       "</table>\n",
       "</div>"
      ],
      "text/plain": [
       "           V2        V3        V4        V5        V6        V7        V8  \\\n",
       "V2   1.000000  0.094397  0.211545 -0.310235  0.270798  0.289101  0.236815   \n",
       "V3   0.094397  1.000000  0.164045  0.288500 -0.054575 -0.335167 -0.411007   \n",
       "V4   0.211545  0.164045  1.000000  0.443367  0.286587  0.128980  0.115077   \n",
       "V5  -0.310235  0.288500  0.443367  1.000000 -0.083333 -0.321113 -0.351370   \n",
       "V6   0.270798 -0.054575  0.286587 -0.083333  1.000000  0.214401  0.195784   \n",
       "V7   0.289101 -0.335167  0.128980 -0.321113  0.214401  1.000000  0.864564   \n",
       "V8   0.236815 -0.411007  0.115077 -0.351370  0.195784  0.864564  1.000000   \n",
       "V9  -0.155929  0.292977  0.186230  0.361922 -0.256294 -0.449935 -0.537900   \n",
       "V10  0.136698 -0.220746  0.009652 -0.197327  0.236441  0.612413  0.652692   \n",
       "V11  0.546364  0.248985  0.258887  0.018732  0.199950 -0.055136 -0.172379   \n",
       "V12 -0.071747 -0.561296 -0.074667 -0.273955  0.055398  0.433681  0.543479   \n",
       "V13  0.072343 -0.368710  0.003911 -0.276769  0.066004  0.699949  0.787194   \n",
       "V14  0.643720 -0.192011  0.223626 -0.440597  0.393351  0.498115  0.494193   \n",
       "\n",
       "           V9       V10       V11       V12       V13       V14  \n",
       "V2  -0.155929  0.136698  0.546364 -0.071747  0.072343  0.643720  \n",
       "V3   0.292977 -0.220746  0.248985 -0.561296 -0.368710 -0.192011  \n",
       "V4   0.186230  0.009652  0.258887 -0.074667  0.003911  0.223626  \n",
       "V5   0.361922 -0.197327  0.018732 -0.273955 -0.276769 -0.440597  \n",
       "V6  -0.256294  0.236441  0.199950  0.055398  0.066004  0.393351  \n",
       "V7  -0.449935  0.612413 -0.055136  0.433681  0.699949  0.498115  \n",
       "V8  -0.537900  0.652692 -0.172379  0.543479  0.787194  0.494193  \n",
       "V9   1.000000 -0.365845  0.139057 -0.262640 -0.503270 -0.311385  \n",
       "V10 -0.365845  1.000000 -0.025250  0.295544  0.519067  0.330417  \n",
       "V11  0.139057 -0.025250  1.000000 -0.521813 -0.428815  0.316100  \n",
       "V12 -0.262640  0.295544 -0.521813  1.000000  0.565468  0.236183  \n",
       "V13 -0.503270  0.519067 -0.428815  0.565468  1.000000  0.312761  \n",
       "V14 -0.311385  0.330417  0.316100  0.236183  0.312761  1.000000  "
      ]
     },
     "execution_count": 35,
     "metadata": {},
     "output_type": "execute_result"
    }
   ],
   "source": [
    "corrmat = X.corr() \n",
    "corrmat"
   ]
  },
  {
   "cell_type": "code",
   "execution_count": 38,
   "metadata": {},
   "outputs": [
    {
     "data": {
      "image/png": "[encoded data removed]",
      "text/plain": [
       "<matplotlib.figure.Figure at 0x1163a1f60>"
      ]
     },
     "metadata": {},
     "output_type": "display_data"
    }
   ],
   "source": [
    "sns.heatmap(corrmat, vmax=1., square=False).xaxis.tick_top()\n",
    "plt.show()"
   ]
  },
  {
   "cell_type": "code",
   "execution_count": 39,
   "metadata": {},
   "outputs": [
    {
     "data": {
      "image/png": "[encoded data removed]",
      "text/plain": [
       "<matplotlib.figure.Figure at 0x116562390>"
      ]
     },
     "metadata": {},
     "output_type": "display_data"
    }
   ],
   "source": [
    "# adapted from http://matplotlib.org/examples/specialty_plots/hinton_demo.html\n",
    "def hinton(matrix, max_weight=None, ax=None):\n",
    "    \"\"\"Draw Hinton diagram for visualizing a weight matrix.\"\"\"\n",
    "    ax = ax if ax is not None else plt.gca()\n",
    "\n",
    "    if not max_weight:\n",
    "        max_weight = 2 ** np.ceil(np.log(np.abs(matrix).max()) / np.log(2))\n",
    "\n",
    "    ax.patch.set_facecolor('gray')\n",
    "    ax.set_aspect('equal', 'box')\n",
    "    ax.xaxis.set_major_locator(plt.NullLocator())\n",
    "    ax.yaxis.set_major_locator(plt.NullLocator())\n",
    "\n",
    "    for (x, y), w in np.ndenumerate(matrix):\n",
    "        color = 'white' if w > 0 else 'black'\n",
    "        size = np.sqrt(np.abs(w) / max_weight)\n",
    "        rect = plt.Rectangle([x - size / 2, y - size / 2], size, size,\n",
    "                             facecolor=color, edgecolor=color)\n",
    "        ax.add_patch(rect)\n",
    "\n",
    "    ax.autoscale_view()\n",
    "    ax.invert_yaxis()\n",
    "\n",
    "\n",
    "if __name__ == '__main__':\n",
    "    hinton(np.random.rand(20, 20) - 0.5)\n",
    "    plt.show()"
   ]
  },
  {
   "cell_type": "code",
   "execution_count": 40,
   "metadata": {
    "collapsed": true
   },
   "outputs": [],
   "source": [
    "def mosthighlycorrelated(mydataframe, numtoreport): \n",
    "    # find the correlations \n",
    "    cormatrix = mydataframe.corr() \n",
    "    # set the correlations on the diagonal or lower triangle to zero, \n",
    "    # so they will not be reported as the highest ones: \n",
    "    cormatrix *= np.tri(*cormatrix.values.shape, k=-1).T \n",
    "    # find the top n correlations \n",
    "    cormatrix = cormatrix.stack() \n",
    "    cormatrix = cormatrix.reindex(cormatrix.abs().sort_values(ascending=False).index).reset_index() \n",
    "    # assign human-friendly names \n",
    "    cormatrix.columns = [\"FirstVariable\", \"SecondVariable\", \"Correlation\"] \n",
    "    return cormatrix.head(numtoreport)"
   ]
  },
  {
   "cell_type": "code",
   "execution_count": 41,
   "metadata": {},
   "outputs": [
    {
     "data": {
      "text/html": [
       "<div>\n",
       "<style>\n",
       "    .dataframe thead tr:only-child th {\n",
       "        text-align: right;\n",
       "    }\n",
       "\n",
       "    .dataframe thead th {\n",
       "        text-align: left;\n",
       "    }\n",
       "\n",
       "    .dataframe tbody tr th {\n",
       "        vertical-align: top;\n",
       "    }\n",
       "</style>\n",
       "<table border=\"1\" class=\"dataframe\">\n",
       "  <thead>\n",
       "    <tr style=\"text-align: right;\">\n",
       "      <th></th>\n",
       "      <th>FirstVariable</th>\n",
       "      <th>SecondVariable</th>\n",
       "      <th>Correlation</th>\n",
       "    </tr>\n",
       "  </thead>\n",
       "  <tbody>\n",
       "    <tr>\n",
       "      <th>0</th>\n",
       "      <td>V7</td>\n",
       "      <td>V8</td>\n",
       "      <td>0.864564</td>\n",
       "    </tr>\n",
       "    <tr>\n",
       "      <th>1</th>\n",
       "      <td>V8</td>\n",
       "      <td>V13</td>\n",
       "      <td>0.787194</td>\n",
       "    </tr>\n",
       "    <tr>\n",
       "      <th>2</th>\n",
       "      <td>V7</td>\n",
       "      <td>V13</td>\n",
       "      <td>0.699949</td>\n",
       "    </tr>\n",
       "    <tr>\n",
       "      <th>3</th>\n",
       "      <td>V8</td>\n",
       "      <td>V10</td>\n",
       "      <td>0.652692</td>\n",
       "    </tr>\n",
       "    <tr>\n",
       "      <th>4</th>\n",
       "      <td>V2</td>\n",
       "      <td>V14</td>\n",
       "      <td>0.643720</td>\n",
       "    </tr>\n",
       "    <tr>\n",
       "      <th>5</th>\n",
       "      <td>V7</td>\n",
       "      <td>V10</td>\n",
       "      <td>0.612413</td>\n",
       "    </tr>\n",
       "    <tr>\n",
       "      <th>6</th>\n",
       "      <td>V12</td>\n",
       "      <td>V13</td>\n",
       "      <td>0.565468</td>\n",
       "    </tr>\n",
       "    <tr>\n",
       "      <th>7</th>\n",
       "      <td>V3</td>\n",
       "      <td>V12</td>\n",
       "      <td>-0.561296</td>\n",
       "    </tr>\n",
       "    <tr>\n",
       "      <th>8</th>\n",
       "      <td>V2</td>\n",
       "      <td>V11</td>\n",
       "      <td>0.546364</td>\n",
       "    </tr>\n",
       "    <tr>\n",
       "      <th>9</th>\n",
       "      <td>V8</td>\n",
       "      <td>V12</td>\n",
       "      <td>0.543479</td>\n",
       "    </tr>\n",
       "  </tbody>\n",
       "</table>\n",
       "</div>"
      ],
      "text/plain": [
       "  FirstVariable SecondVariable  Correlation\n",
       "0            V7             V8     0.864564\n",
       "1            V8            V13     0.787194\n",
       "2            V7            V13     0.699949\n",
       "3            V8            V10     0.652692\n",
       "4            V2            V14     0.643720\n",
       "5            V7            V10     0.612413\n",
       "6           V12            V13     0.565468\n",
       "7            V3            V12    -0.561296\n",
       "8            V2            V11     0.546364\n",
       "9            V8            V12     0.543479"
      ]
     },
     "execution_count": 41,
     "metadata": {},
     "output_type": "execute_result"
    }
   ],
   "source": [
    "mosthighlycorrelated(X, 10)"
   ]
  },
  {
   "cell_type": "code",
   "execution_count": 42,
   "metadata": {},
   "outputs": [
    {
     "data": {
      "text/plain": [
       "V2    -8.619821e-16\n",
       "V3    -8.357859e-17\n",
       "V4    -8.657245e-16\n",
       "V5    -1.160121e-16\n",
       "V6    -1.995907e-17\n",
       "V7    -2.972030e-16\n",
       "V8    -4.016762e-16\n",
       "V9     4.079134e-16\n",
       "V10   -1.699639e-16\n",
       "V11   -1.247442e-18\n",
       "V12    3.717376e-16\n",
       "V13    2.919013e-16\n",
       "V14   -7.484650e-18\n",
       "dtype: float64"
      ]
     },
     "execution_count": 42,
     "metadata": {},
     "output_type": "execute_result"
    }
   ],
   "source": [
    "standardisedX = scale(X)\n",
    "standardisedX = pd.DataFrame(standardisedX, index=X.index, columns=X.columns)\n",
    "standardisedX.apply(np.mean)"
   ]
  },
  {
   "cell_type": "code",
   "execution_count": 43,
   "metadata": {},
   "outputs": [
    {
     "data": {
      "text/plain": [
       "V2     1.0\n",
       "V3     1.0\n",
       "V4     1.0\n",
       "V5     1.0\n",
       "V6     1.0\n",
       "V7     1.0\n",
       "V8     1.0\n",
       "V9     1.0\n",
       "V10    1.0\n",
       "V11    1.0\n",
       "V12    1.0\n",
       "V13    1.0\n",
       "V14    1.0\n",
       "dtype: float64"
      ]
     },
     "execution_count": 43,
     "metadata": {},
     "output_type": "execute_result"
    }
   ],
   "source": [
    "standardisedX.apply(np.std)"
   ]
  },
  {
   "cell_type": "code",
   "execution_count": 50,
   "metadata": {
    "collapsed": true
   },
   "outputs": [],
   "source": [
    "pca = PCA().fit(standardisedX)"
   ]
  },
  {
   "cell_type": "code",
   "execution_count": 53,
   "metadata": {
    "collapsed": true
   },
   "outputs": [],
   "source": [
    "def pca_summary(pca, standardised_data, out=True): \n",
    "    names = [\"PC\"+str(i) for i in range(1, len(pca.explained_variance_ratio_)+1)] \n",
    "    a = list(np.std(pca.transform(standardised_data), axis=0)) \n",
    "    b = list(pca.explained_variance_ratio_) \n",
    "    c = [np.sum(pca.explained_variance_ratio_[:i]) for i in range(1, len(pca.explained_variance_ratio_)+1)] \n",
    "    columns = pd.MultiIndex.from_tuples([(\"sdev\", \"Standard deviation\"), (\"varprop\", \"Proportion of Variance\"), (\"cumprop\", \"Cumulative Proportion\")])\n",
    "    summary = pd.DataFrame(list(zip(a, b, c)), index=names, columns=columns)\n",
    "    if out: \n",
    "        print(\"Importance of components:\") \n",
    "        display(summary) \n",
    "    return summary"
   ]
  },
  {
   "cell_type": "code",
   "execution_count": 54,
   "metadata": {},
   "outputs": [
    {
     "name": "stdout",
     "output_type": "stream",
     "text": [
      "Importance of components:\n"
     ]
    },
    {
     "data": {
      "text/html": [
       "<div>\n",
       "<style>\n",
       "    .dataframe thead tr:only-child th {\n",
       "        text-align: right;\n",
       "    }\n",
       "\n",
       "    .dataframe thead th {\n",
       "        text-align: left;\n",
       "    }\n",
       "\n",
       "    .dataframe tbody tr th {\n",
       "        vertical-align: top;\n",
       "    }\n",
       "</style>\n",
       "<table border=\"1\" class=\"dataframe\">\n",
       "  <thead>\n",
       "    <tr>\n",
       "      <th></th>\n",
       "      <th>sdev</th>\n",
       "      <th>varprop</th>\n",
       "      <th>cumprop</th>\n",
       "    </tr>\n",
       "    <tr>\n",
       "      <th></th>\n",
       "      <th>Standard deviation</th>\n",
       "      <th>Proportion of Variance</th>\n",
       "      <th>Cumulative Proportion</th>\n",
       "    </tr>\n",
       "  </thead>\n",
       "  <tbody>\n",
       "    <tr>\n",
       "      <th>PC1</th>\n",
       "      <td>2.169297</td>\n",
       "      <td>0.361988</td>\n",
       "      <td>0.361988</td>\n",
       "    </tr>\n",
       "    <tr>\n",
       "      <th>PC2</th>\n",
       "      <td>1.580182</td>\n",
       "      <td>0.192075</td>\n",
       "      <td>0.554063</td>\n",
       "    </tr>\n",
       "    <tr>\n",
       "      <th>PC3</th>\n",
       "      <td>1.202527</td>\n",
       "      <td>0.111236</td>\n",
       "      <td>0.665300</td>\n",
       "    </tr>\n",
       "    <tr>\n",
       "      <th>PC4</th>\n",
       "      <td>0.958631</td>\n",
       "      <td>0.070690</td>\n",
       "      <td>0.735990</td>\n",
       "    </tr>\n",
       "    <tr>\n",
       "      <th>PC5</th>\n",
       "      <td>0.923704</td>\n",
       "      <td>0.065633</td>\n",
       "      <td>0.801623</td>\n",
       "    </tr>\n",
       "    <tr>\n",
       "      <th>PC6</th>\n",
       "      <td>0.801035</td>\n",
       "      <td>0.049358</td>\n",
       "      <td>0.850981</td>\n",
       "    </tr>\n",
       "    <tr>\n",
       "      <th>PC7</th>\n",
       "      <td>0.742313</td>\n",
       "      <td>0.042387</td>\n",
       "      <td>0.893368</td>\n",
       "    </tr>\n",
       "    <tr>\n",
       "      <th>PC8</th>\n",
       "      <td>0.590337</td>\n",
       "      <td>0.026807</td>\n",
       "      <td>0.920175</td>\n",
       "    </tr>\n",
       "    <tr>\n",
       "      <th>PC9</th>\n",
       "      <td>0.537476</td>\n",
       "      <td>0.022222</td>\n",
       "      <td>0.942397</td>\n",
       "    </tr>\n",
       "    <tr>\n",
       "      <th>PC10</th>\n",
       "      <td>0.500902</td>\n",
       "      <td>0.019300</td>\n",
       "      <td>0.961697</td>\n",
       "    </tr>\n",
       "    <tr>\n",
       "      <th>PC11</th>\n",
       "      <td>0.475172</td>\n",
       "      <td>0.017368</td>\n",
       "      <td>0.979066</td>\n",
       "    </tr>\n",
       "    <tr>\n",
       "      <th>PC12</th>\n",
       "      <td>0.410817</td>\n",
       "      <td>0.012982</td>\n",
       "      <td>0.992048</td>\n",
       "    </tr>\n",
       "    <tr>\n",
       "      <th>PC13</th>\n",
       "      <td>0.321524</td>\n",
       "      <td>0.007952</td>\n",
       "      <td>1.000000</td>\n",
       "    </tr>\n",
       "  </tbody>\n",
       "</table>\n",
       "</div>"
      ],
      "text/plain": [
       "                   sdev                varprop               cumprop\n",
       "     Standard deviation Proportion of Variance Cumulative Proportion\n",
       "PC1            2.169297               0.361988              0.361988\n",
       "PC2            1.580182               0.192075              0.554063\n",
       "PC3            1.202527               0.111236              0.665300\n",
       "PC4            0.958631               0.070690              0.735990\n",
       "PC5            0.923704               0.065633              0.801623\n",
       "PC6            0.801035               0.049358              0.850981\n",
       "PC7            0.742313               0.042387              0.893368\n",
       "PC8            0.590337               0.026807              0.920175\n",
       "PC9            0.537476               0.022222              0.942397\n",
       "PC10           0.500902               0.019300              0.961697\n",
       "PC11           0.475172               0.017368              0.979066\n",
       "PC12           0.410817               0.012982              0.992048\n",
       "PC13           0.321524               0.007952              1.000000"
      ]
     },
     "metadata": {},
     "output_type": "display_data"
    }
   ],
   "source": [
    "summary = pca_summary(pca, standardisedX)"
   ]
  },
  {
   "cell_type": "code",
   "execution_count": 55,
   "metadata": {},
   "outputs": [
    {
     "data": {
      "text/html": [
       "<div>\n",
       "<style>\n",
       "    .dataframe thead tr:only-child th {\n",
       "        text-align: right;\n",
       "    }\n",
       "\n",
       "    .dataframe thead th {\n",
       "        text-align: left;\n",
       "    }\n",
       "\n",
       "    .dataframe tbody tr th {\n",
       "        vertical-align: top;\n",
       "    }\n",
       "</style>\n",
       "<table border=\"1\" class=\"dataframe\">\n",
       "  <thead>\n",
       "    <tr style=\"text-align: right;\">\n",
       "      <th></th>\n",
       "      <th>Standard deviation</th>\n",
       "    </tr>\n",
       "  </thead>\n",
       "  <tbody>\n",
       "    <tr>\n",
       "      <th>PC1</th>\n",
       "      <td>2.169297</td>\n",
       "    </tr>\n",
       "    <tr>\n",
       "      <th>PC2</th>\n",
       "      <td>1.580182</td>\n",
       "    </tr>\n",
       "    <tr>\n",
       "      <th>PC3</th>\n",
       "      <td>1.202527</td>\n",
       "    </tr>\n",
       "    <tr>\n",
       "      <th>PC4</th>\n",
       "      <td>0.958631</td>\n",
       "    </tr>\n",
       "    <tr>\n",
       "      <th>PC5</th>\n",
       "      <td>0.923704</td>\n",
       "    </tr>\n",
       "    <tr>\n",
       "      <th>PC6</th>\n",
       "      <td>0.801035</td>\n",
       "    </tr>\n",
       "    <tr>\n",
       "      <th>PC7</th>\n",
       "      <td>0.742313</td>\n",
       "    </tr>\n",
       "    <tr>\n",
       "      <th>PC8</th>\n",
       "      <td>0.590337</td>\n",
       "    </tr>\n",
       "    <tr>\n",
       "      <th>PC9</th>\n",
       "      <td>0.537476</td>\n",
       "    </tr>\n",
       "    <tr>\n",
       "      <th>PC10</th>\n",
       "      <td>0.500902</td>\n",
       "    </tr>\n",
       "    <tr>\n",
       "      <th>PC11</th>\n",
       "      <td>0.475172</td>\n",
       "    </tr>\n",
       "    <tr>\n",
       "      <th>PC12</th>\n",
       "      <td>0.410817</td>\n",
       "    </tr>\n",
       "    <tr>\n",
       "      <th>PC13</th>\n",
       "      <td>0.321524</td>\n",
       "    </tr>\n",
       "  </tbody>\n",
       "</table>\n",
       "</div>"
      ],
      "text/plain": [
       "      Standard deviation\n",
       "PC1             2.169297\n",
       "PC2             1.580182\n",
       "PC3             1.202527\n",
       "PC4             0.958631\n",
       "PC5             0.923704\n",
       "PC6             0.801035\n",
       "PC7             0.742313\n",
       "PC8             0.590337\n",
       "PC9             0.537476\n",
       "PC10            0.500902\n",
       "PC11            0.475172\n",
       "PC12            0.410817\n",
       "PC13            0.321524"
      ]
     },
     "execution_count": 55,
     "metadata": {},
     "output_type": "execute_result"
    }
   ],
   "source": [
    "summary.sdev"
   ]
  },
  {
   "cell_type": "code",
   "execution_count": 56,
   "metadata": {},
   "outputs": [
    {
     "data": {
      "text/plain": [
       "Standard deviation    13.0\n",
       "dtype: float64"
      ]
     },
     "execution_count": 56,
     "metadata": {},
     "output_type": "execute_result"
    }
   ],
   "source": [
    "np.sum(summary.sdev**2)"
   ]
  },
  {
   "cell_type": "code",
   "execution_count": 59,
   "metadata": {},
   "outputs": [
    {
     "data": {
      "image/png": "[encoded data removed]",
      "text/plain": [
       "<matplotlib.figure.Figure at 0x11659c4e0>"
      ]
     },
     "metadata": {},
     "output_type": "display_data"
    }
   ],
   "source": [
    "def screeplot(pca, standardised_values):\n",
    "    y = np.std(pca.transform(standardised_values), axis=0)**2\n",
    "    x = np.arange(len(y)) + 1\n",
    "    plt.plot(x, y, \"o-\")\n",
    "    plt.xticks(x, [\"Comp.\"+str(i) for i in x], rotation=60)\n",
    "    plt.ylabel(\"Variance\")\n",
    "    plt.show()\n",
    "\n",
    "screeplot(pca, standardisedX)"
   ]
  },
  {
   "cell_type": "code",
   "execution_count": 60,
   "metadata": {},
   "outputs": [
    {
     "data": {
      "text/html": [
       "<div>\n",
       "<style>\n",
       "    .dataframe thead tr:only-child th {\n",
       "        text-align: right;\n",
       "    }\n",
       "\n",
       "    .dataframe thead th {\n",
       "        text-align: left;\n",
       "    }\n",
       "\n",
       "    .dataframe tbody tr th {\n",
       "        vertical-align: top;\n",
       "    }\n",
       "</style>\n",
       "<table border=\"1\" class=\"dataframe\">\n",
       "  <thead>\n",
       "    <tr style=\"text-align: right;\">\n",
       "      <th></th>\n",
       "      <th>Standard deviation</th>\n",
       "    </tr>\n",
       "  </thead>\n",
       "  <tbody>\n",
       "    <tr>\n",
       "      <th>PC1</th>\n",
       "      <td>4.705850</td>\n",
       "    </tr>\n",
       "    <tr>\n",
       "      <th>PC2</th>\n",
       "      <td>2.496974</td>\n",
       "    </tr>\n",
       "    <tr>\n",
       "      <th>PC3</th>\n",
       "      <td>1.446072</td>\n",
       "    </tr>\n",
       "    <tr>\n",
       "      <th>PC4</th>\n",
       "      <td>0.918974</td>\n",
       "    </tr>\n",
       "    <tr>\n",
       "      <th>PC5</th>\n",
       "      <td>0.853228</td>\n",
       "    </tr>\n",
       "    <tr>\n",
       "      <th>PC6</th>\n",
       "      <td>0.641657</td>\n",
       "    </tr>\n",
       "    <tr>\n",
       "      <th>PC7</th>\n",
       "      <td>0.551028</td>\n",
       "    </tr>\n",
       "    <tr>\n",
       "      <th>PC8</th>\n",
       "      <td>0.348497</td>\n",
       "    </tr>\n",
       "    <tr>\n",
       "      <th>PC9</th>\n",
       "      <td>0.288880</td>\n",
       "    </tr>\n",
       "    <tr>\n",
       "      <th>PC10</th>\n",
       "      <td>0.250902</td>\n",
       "    </tr>\n",
       "    <tr>\n",
       "      <th>PC11</th>\n",
       "      <td>0.225789</td>\n",
       "    </tr>\n",
       "    <tr>\n",
       "      <th>PC12</th>\n",
       "      <td>0.168770</td>\n",
       "    </tr>\n",
       "    <tr>\n",
       "      <th>PC13</th>\n",
       "      <td>0.103378</td>\n",
       "    </tr>\n",
       "  </tbody>\n",
       "</table>\n",
       "</div>"
      ],
      "text/plain": [
       "      Standard deviation\n",
       "PC1             4.705850\n",
       "PC2             2.496974\n",
       "PC3             1.446072\n",
       "PC4             0.918974\n",
       "PC5             0.853228\n",
       "PC6             0.641657\n",
       "PC7             0.551028\n",
       "PC8             0.348497\n",
       "PC9             0.288880\n",
       "PC10            0.250902\n",
       "PC11            0.225789\n",
       "PC12            0.168770\n",
       "PC13            0.103378"
      ]
     },
     "execution_count": 60,
     "metadata": {},
     "output_type": "execute_result"
    }
   ],
   "source": [
    "summary.sdev**2"
   ]
  },
  {
   "cell_type": "code",
   "execution_count": 61,
   "metadata": {},
   "outputs": [
    {
     "data": {
      "text/plain": [
       "array([ 0.1443294 , -0.24518758, -0.00205106, -0.23932041,  0.14199204,\n",
       "        0.39466085,  0.4229343 , -0.2985331 ,  0.31342949, -0.0886167 ,\n",
       "        0.29671456,  0.37616741,  0.28675223])"
      ]
     },
     "execution_count": 61,
     "metadata": {},
     "output_type": "execute_result"
    }
   ],
   "source": [
    "pca.components_[0]"
   ]
  },
  {
   "cell_type": "code",
   "execution_count": 62,
   "metadata": {},
   "outputs": [
    {
     "data": {
      "text/plain": [
       "1.0000000000000004"
      ]
     },
     "execution_count": 62,
     "metadata": {},
     "output_type": "execute_result"
    }
   ],
   "source": [
    "np.sum(pca.components_[0]**2)"
   ]
  },
  {
   "cell_type": "code",
   "execution_count": 63,
   "metadata": {
    "collapsed": true
   },
   "outputs": [],
   "source": [
    "def calcpc(variables, loadings):\n",
    "    # find the number of samples in the data set and the number of variables\n",
    "    numsamples, numvariables = variables.shape\n",
    "    # make a vector to store the component\n",
    "    pc = np.zeros(numsamples)\n",
    "    # calculate the value of the component for each sample\n",
    "    for i in range(numsamples):\n",
    "        valuei = 0\n",
    "        for j in range(numvariables):\n",
    "            valueij = variables.iloc[i, j]\n",
    "            loadingj = loadings[j]\n",
    "            valuei = valuei + (valueij * loadingj)\n",
    "        pc[i] = valuei\n",
    "    return pc"
   ]
  },
  {
   "cell_type": "code",
   "execution_count": 64,
   "metadata": {},
   "outputs": [
    {
     "data": {
      "text/plain": [
       "array([ 3.31675081,  2.20946492,  2.51674015,  3.75706561,  1.00890849,\n",
       "        3.05025392,  2.44908967,  2.05943687,  2.5108743 ,  2.75362819,\n",
       "        3.47973668,  1.7547529 ,  2.11346234,  3.45815682,  4.31278391,\n",
       "        2.3051882 ,  2.17195527,  1.89897118,  3.54198508,  2.0845222 ,\n",
       "        3.12440254,  1.08657007,  2.53522408,  1.64498834,  1.76157587,\n",
       "        0.9900791 ,  1.77527763,  1.23542396,  2.18840633,  2.25610898,\n",
       "        2.50022003,  2.67741105,  1.62857912,  1.90269086,  1.41038853,\n",
       "        1.90382623,  1.38486223,  1.12220741,  1.5021945 ,  2.52980109,\n",
       "        2.58809543,  0.66848199,  3.07080699,  0.46220914,  2.10135193,\n",
       "        1.13616618,  2.72660096,  2.82133927,  2.00985085,  2.7074913 ,\n",
       "        3.21491747,  2.85895983,  3.50560436,  2.22479138,  2.14698782,\n",
       "        2.46932948,  2.74151791,  2.17374092,  3.13938015, -0.92858197,\n",
       "       -1.54248014, -1.83624976,  0.03060683,  2.05026161, -0.60968083,\n",
       "        0.90022784,  2.24850719,  0.18338403, -0.81280503,  1.9756205 ,\n",
       "       -1.57221622,  1.65768181, -0.72537239,  2.56222717,  1.83256757,\n",
       "       -0.8679929 ,  0.3700144 , -1.45737704,  1.26293085,  0.37615037,\n",
       "        0.7620639 ,  1.03457797, -0.49487676, -2.53897708,  0.83532015,\n",
       "        0.78790461, -0.80683216, -0.55804262, -1.11511104, -0.55572283,\n",
       "       -1.34928528, -1.56448261, -1.93255561,  0.74666594,  0.95745536,\n",
       "        2.54386518, -0.54395259,  1.03104975,  2.25190942,  1.41021602,\n",
       "        0.79771979, -0.54953173, -0.16117374, -0.65979494,  0.39235441,\n",
       "       -1.77249908, -0.36626736, -1.62067257,  0.08253578,  1.57827507,\n",
       "        1.42056925, -0.27870275, -1.30314497, -0.45707187, -0.49418585,\n",
       "        0.48207441, -0.25288888, -0.10722764, -2.4330126 , -0.55108954,\n",
       "        0.73962193,  1.33632173, -1.177087  , -0.46233501,  0.97847408,\n",
       "       -0.09680973,  0.03848715, -1.5971585 , -0.47956492, -1.79283347,\n",
       "       -1.32710166, -2.38450083, -2.9369401 , -2.14681113, -2.36986949,\n",
       "       -3.06384157, -3.91575378, -3.93646339, -3.09427612, -2.37447163,\n",
       "       -2.77881295, -2.28656128, -2.98563349, -2.3751947 , -2.20986553,\n",
       "       -2.625621  , -4.28063878, -3.58264137, -2.80706372, -2.89965933,\n",
       "       -2.32073698, -2.54983095, -1.81254128, -2.76014464, -2.7371505 ,\n",
       "       -3.60486887, -2.889826  , -3.39215608, -1.0481819 , -1.60991228,\n",
       "       -3.14313097, -2.2401569 , -2.84767378, -2.59749706, -2.94929937,\n",
       "       -3.53003227, -2.40611054, -2.92908473, -2.18141278, -2.38092779,\n",
       "       -3.21161722, -3.67791872, -2.4655558 , -3.37052415, -2.60195585,\n",
       "       -2.67783946, -2.38701709, -3.20875816])"
      ]
     },
     "execution_count": 64,
     "metadata": {},
     "output_type": "execute_result"
    }
   ],
   "source": [
    "calcpc(standardisedX, pca.components_[0])"
   ]
  },
  {
   "cell_type": "code",
   "execution_count": 65,
   "metadata": {},
   "outputs": [
    {
     "data": {
      "text/plain": [
       "array([ 3.31675081,  2.20946492,  2.51674015,  3.75706561,  1.00890849,\n",
       "        3.05025392,  2.44908967,  2.05943687,  2.5108743 ,  2.75362819,\n",
       "        3.47973668,  1.7547529 ,  2.11346234,  3.45815682,  4.31278391,\n",
       "        2.3051882 ,  2.17195527,  1.89897118,  3.54198508,  2.0845222 ,\n",
       "        3.12440254,  1.08657007,  2.53522408,  1.64498834,  1.76157587,\n",
       "        0.9900791 ,  1.77527763,  1.23542396,  2.18840633,  2.25610898,\n",
       "        2.50022003,  2.67741105,  1.62857912,  1.90269086,  1.41038853,\n",
       "        1.90382623,  1.38486223,  1.12220741,  1.5021945 ,  2.52980109,\n",
       "        2.58809543,  0.66848199,  3.07080699,  0.46220914,  2.10135193,\n",
       "        1.13616618,  2.72660096,  2.82133927,  2.00985085,  2.7074913 ,\n",
       "        3.21491747,  2.85895983,  3.50560436,  2.22479138,  2.14698782,\n",
       "        2.46932948,  2.74151791,  2.17374092,  3.13938015, -0.92858197,\n",
       "       -1.54248014, -1.83624976,  0.03060683,  2.05026161, -0.60968083,\n",
       "        0.90022784,  2.24850719,  0.18338403, -0.81280503,  1.9756205 ,\n",
       "       -1.57221622,  1.65768181, -0.72537239,  2.56222717,  1.83256757,\n",
       "       -0.8679929 ,  0.3700144 , -1.45737704,  1.26293085,  0.37615037,\n",
       "        0.7620639 ,  1.03457797, -0.49487676, -2.53897708,  0.83532015,\n",
       "        0.78790461, -0.80683216, -0.55804262, -1.11511104, -0.55572283,\n",
       "       -1.34928528, -1.56448261, -1.93255561,  0.74666594,  0.95745536,\n",
       "        2.54386518, -0.54395259,  1.03104975,  2.25190942,  1.41021602,\n",
       "        0.79771979, -0.54953173, -0.16117374, -0.65979494,  0.39235441,\n",
       "       -1.77249908, -0.36626736, -1.62067257,  0.08253578,  1.57827507,\n",
       "        1.42056925, -0.27870275, -1.30314497, -0.45707187, -0.49418585,\n",
       "        0.48207441, -0.25288888, -0.10722764, -2.4330126 , -0.55108954,\n",
       "        0.73962193,  1.33632173, -1.177087  , -0.46233501,  0.97847408,\n",
       "       -0.09680973,  0.03848715, -1.5971585 , -0.47956492, -1.79283347,\n",
       "       -1.32710166, -2.38450083, -2.9369401 , -2.14681113, -2.36986949,\n",
       "       -3.06384157, -3.91575378, -3.93646339, -3.09427612, -2.37447163,\n",
       "       -2.77881295, -2.28656128, -2.98563349, -2.3751947 , -2.20986553,\n",
       "       -2.625621  , -4.28063878, -3.58264137, -2.80706372, -2.89965933,\n",
       "       -2.32073698, -2.54983095, -1.81254128, -2.76014464, -2.7371505 ,\n",
       "       -3.60486887, -2.889826  , -3.39215608, -1.0481819 , -1.60991228,\n",
       "       -3.14313097, -2.2401569 , -2.84767378, -2.59749706, -2.94929937,\n",
       "       -3.53003227, -2.40611054, -2.92908473, -2.18141278, -2.38092779,\n",
       "       -3.21161722, -3.67791872, -2.4655558 , -3.37052415, -2.60195585,\n",
       "       -2.67783946, -2.38701709, -3.20875816])"
      ]
     },
     "execution_count": 65,
     "metadata": {},
     "output_type": "execute_result"
    }
   ],
   "source": [
    "pca.transform(standardisedX)[:, 0]"
   ]
  },
  {
   "cell_type": "code",
   "execution_count": 66,
   "metadata": {},
   "outputs": [
    {
     "data": {
      "text/plain": [
       "array([-0.48365155, -0.22493093, -0.31606881,  0.0105905 , -0.299634  ,\n",
       "       -0.06503951,  0.00335981, -0.02877949, -0.03930172, -0.52999567,\n",
       "        0.27923515,  0.16449619, -0.36490283])"
      ]
     },
     "execution_count": 66,
     "metadata": {},
     "output_type": "execute_result"
    }
   ],
   "source": [
    "pca.components_[1]"
   ]
  },
  {
   "cell_type": "code",
   "execution_count": 67,
   "metadata": {},
   "outputs": [
    {
     "data": {
      "text/plain": [
       "1.0000000000000009"
      ]
     },
     "execution_count": 67,
     "metadata": {},
     "output_type": "execute_result"
    }
   ],
   "source": [
    "np.sum(pca.components_[1]**2)"
   ]
  },
  {
   "cell_type": "code",
   "execution_count": 72,
   "metadata": {},
   "outputs": [
    {
     "data": {
      "image/png": "[encoded data removed]",
      "text/plain": [
       "<matplotlib.figure.Figure at 0x11635ff28>"
      ]
     },
     "metadata": {},
     "output_type": "display_data"
    }
   ],
   "source": [
    "def pca_scatter(pca, standardised_values, classifs):\n",
    "    foo = pca.transform(standardised_values)\n",
    "    bar = pd.DataFrame(list(zip(foo[:, 0], foo[:, 1], classifs)), columns=[\"PC1\", \"PC2\", \"Class\"])\n",
    "    sns.lmplot(\"PC1\", \"PC2\", bar, hue=\"Class\", fit_reg=False)\n",
    "\n",
    "pca_scatter(pca, standardisedX, y)\n",
    "plt.show()"
   ]
  },
  {
   "cell_type": "code",
   "execution_count": 73,
   "metadata": {},
   "outputs": [
    {
     "name": "stdout",
     "output_type": "stream",
     "text": [
      "## Means:\n"
     ]
    },
    {
     "data": {
      "text/html": [
       "<div>\n",
       "<style>\n",
       "    .dataframe thead tr:only-child th {\n",
       "        text-align: right;\n",
       "    }\n",
       "\n",
       "    .dataframe thead th {\n",
       "        text-align: left;\n",
       "    }\n",
       "\n",
       "    .dataframe tbody tr th {\n",
       "        vertical-align: top;\n",
       "    }\n",
       "</style>\n",
       "<table border=\"1\" class=\"dataframe\">\n",
       "  <thead>\n",
       "    <tr style=\"text-align: right;\">\n",
       "      <th></th>\n",
       "      <th>V2</th>\n",
       "      <th>V3</th>\n",
       "      <th>V4</th>\n",
       "      <th>V5</th>\n",
       "      <th>V6</th>\n",
       "      <th>V7</th>\n",
       "      <th>V8</th>\n",
       "      <th>V9</th>\n",
       "      <th>V10</th>\n",
       "      <th>V11</th>\n",
       "      <th>V12</th>\n",
       "      <th>V13</th>\n",
       "      <th>V14</th>\n",
       "    </tr>\n",
       "    <tr>\n",
       "      <th>V1</th>\n",
       "      <th></th>\n",
       "      <th></th>\n",
       "      <th></th>\n",
       "      <th></th>\n",
       "      <th></th>\n",
       "      <th></th>\n",
       "      <th></th>\n",
       "      <th></th>\n",
       "      <th></th>\n",
       "      <th></th>\n",
       "      <th></th>\n",
       "      <th></th>\n",
       "      <th></th>\n",
       "    </tr>\n",
       "  </thead>\n",
       "  <tbody>\n",
       "    <tr>\n",
       "      <th>1</th>\n",
       "      <td>0.919195</td>\n",
       "      <td>-0.292342</td>\n",
       "      <td>0.325604</td>\n",
       "      <td>-0.737997</td>\n",
       "      <td>0.463226</td>\n",
       "      <td>0.873362</td>\n",
       "      <td>0.956884</td>\n",
       "      <td>-0.578985</td>\n",
       "      <td>0.540383</td>\n",
       "      <td>0.203401</td>\n",
       "      <td>0.458847</td>\n",
       "      <td>0.771351</td>\n",
       "      <td>1.174501</td>\n",
       "    </tr>\n",
       "    <tr>\n",
       "      <th>2</th>\n",
       "      <td>-0.891720</td>\n",
       "      <td>-0.362362</td>\n",
       "      <td>-0.444958</td>\n",
       "      <td>0.223137</td>\n",
       "      <td>-0.364567</td>\n",
       "      <td>-0.058067</td>\n",
       "      <td>0.051780</td>\n",
       "      <td>0.014569</td>\n",
       "      <td>0.069002</td>\n",
       "      <td>-0.852799</td>\n",
       "      <td>0.433611</td>\n",
       "      <td>0.245294</td>\n",
       "      <td>-0.724110</td>\n",
       "    </tr>\n",
       "    <tr>\n",
       "      <th>3</th>\n",
       "      <td>0.189159</td>\n",
       "      <td>0.895331</td>\n",
       "      <td>0.257945</td>\n",
       "      <td>0.577065</td>\n",
       "      <td>-0.030127</td>\n",
       "      <td>-0.987617</td>\n",
       "      <td>-1.252761</td>\n",
       "      <td>0.690119</td>\n",
       "      <td>-0.766287</td>\n",
       "      <td>1.011418</td>\n",
       "      <td>-1.205382</td>\n",
       "      <td>-1.310950</td>\n",
       "      <td>-0.372578</td>\n",
       "    </tr>\n",
       "  </tbody>\n",
       "</table>\n",
       "</div>"
      ],
      "text/plain": [
       "          V2        V3        V4        V5        V6        V7        V8  \\\n",
       "V1                                                                         \n",
       "1   0.919195 -0.292342  0.325604 -0.737997  0.463226  0.873362  0.956884   \n",
       "2  -0.891720 -0.362362 -0.444958  0.223137 -0.364567 -0.058067  0.051780   \n",
       "3   0.189159  0.895331  0.257945  0.577065 -0.030127 -0.987617 -1.252761   \n",
       "\n",
       "          V9       V10       V11       V12       V13       V14  \n",
       "V1                                                              \n",
       "1  -0.578985  0.540383  0.203401  0.458847  0.771351  1.174501  \n",
       "2   0.014569  0.069002 -0.852799  0.433611  0.245294 -0.724110  \n",
       "3   0.690119 -0.766287  1.011418 -1.205382 -1.310950 -0.372578  "
      ]
     },
     "metadata": {},
     "output_type": "display_data"
    },
    {
     "name": "stdout",
     "output_type": "stream",
     "text": [
      "\n",
      "## Standard deviations:\n"
     ]
    },
    {
     "data": {
      "text/html": [
       "<div>\n",
       "<style>\n",
       "    .dataframe thead tr:only-child th {\n",
       "        text-align: right;\n",
       "    }\n",
       "\n",
       "    .dataframe thead th {\n",
       "        text-align: left;\n",
       "    }\n",
       "\n",
       "    .dataframe tbody tr th {\n",
       "        vertical-align: top;\n",
       "    }\n",
       "</style>\n",
       "<table border=\"1\" class=\"dataframe\">\n",
       "  <thead>\n",
       "    <tr style=\"text-align: right;\">\n",
       "      <th></th>\n",
       "      <th>V2</th>\n",
       "      <th>V3</th>\n",
       "      <th>V4</th>\n",
       "      <th>V5</th>\n",
       "      <th>V6</th>\n",
       "      <th>V7</th>\n",
       "      <th>V8</th>\n",
       "      <th>V9</th>\n",
       "      <th>V10</th>\n",
       "      <th>V11</th>\n",
       "      <th>V12</th>\n",
       "      <th>V13</th>\n",
       "      <th>V14</th>\n",
       "    </tr>\n",
       "    <tr>\n",
       "      <th>V1</th>\n",
       "      <th></th>\n",
       "      <th></th>\n",
       "      <th></th>\n",
       "      <th></th>\n",
       "      <th></th>\n",
       "      <th></th>\n",
       "      <th></th>\n",
       "      <th></th>\n",
       "      <th></th>\n",
       "      <th></th>\n",
       "      <th></th>\n",
       "      <th></th>\n",
       "      <th></th>\n",
       "    </tr>\n",
       "  </thead>\n",
       "  <tbody>\n",
       "    <tr>\n",
       "      <th>1</th>\n",
       "      <td>0.565989</td>\n",
       "      <td>0.612825</td>\n",
       "      <td>0.823302</td>\n",
       "      <td>0.758115</td>\n",
       "      <td>0.730892</td>\n",
       "      <td>0.538506</td>\n",
       "      <td>0.395674</td>\n",
       "      <td>0.559639</td>\n",
       "      <td>0.715905</td>\n",
       "      <td>0.531210</td>\n",
       "      <td>0.506699</td>\n",
       "      <td>0.500058</td>\n",
       "      <td>0.699428</td>\n",
       "    </tr>\n",
       "    <tr>\n",
       "      <th>2</th>\n",
       "      <td>0.659832</td>\n",
       "      <td>0.905196</td>\n",
       "      <td>1.144991</td>\n",
       "      <td>0.998777</td>\n",
       "      <td>1.168006</td>\n",
       "      <td>0.867674</td>\n",
       "      <td>0.703493</td>\n",
       "      <td>0.991797</td>\n",
       "      <td>1.047418</td>\n",
       "      <td>0.397269</td>\n",
       "      <td>0.884060</td>\n",
       "      <td>0.696425</td>\n",
       "      <td>0.497100</td>\n",
       "    </tr>\n",
       "    <tr>\n",
       "      <th>3</th>\n",
       "      <td>0.648130</td>\n",
       "      <td>0.966347</td>\n",
       "      <td>0.668036</td>\n",
       "      <td>0.670991</td>\n",
       "      <td>0.756649</td>\n",
       "      <td>0.565996</td>\n",
       "      <td>0.291583</td>\n",
       "      <td>0.989818</td>\n",
       "      <td>0.708814</td>\n",
       "      <td>0.989176</td>\n",
       "      <td>0.496834</td>\n",
       "      <td>0.380317</td>\n",
       "      <td>0.362688</td>\n",
       "    </tr>\n",
       "  </tbody>\n",
       "</table>\n",
       "</div>"
      ],
      "text/plain": [
       "          V2        V3        V4        V5        V6        V7        V8  \\\n",
       "V1                                                                         \n",
       "1   0.565989  0.612825  0.823302  0.758115  0.730892  0.538506  0.395674   \n",
       "2   0.659832  0.905196  1.144991  0.998777  1.168006  0.867674  0.703493   \n",
       "3   0.648130  0.966347  0.668036  0.670991  0.756649  0.565996  0.291583   \n",
       "\n",
       "          V9       V10       V11       V12       V13       V14  \n",
       "V1                                                              \n",
       "1   0.559639  0.715905  0.531210  0.506699  0.500058  0.699428  \n",
       "2   0.991797  1.047418  0.397269  0.884060  0.696425  0.497100  \n",
       "3   0.989818  0.708814  0.989176  0.496834  0.380317  0.362688  "
      ]
     },
     "metadata": {},
     "output_type": "display_data"
    },
    {
     "name": "stdout",
     "output_type": "stream",
     "text": [
      "\n",
      "## Sample sizes:\n"
     ]
    },
    {
     "data": {
      "text/html": [
       "<div>\n",
       "<style>\n",
       "    .dataframe thead tr:only-child th {\n",
       "        text-align: right;\n",
       "    }\n",
       "\n",
       "    .dataframe thead th {\n",
       "        text-align: left;\n",
       "    }\n",
       "\n",
       "    .dataframe tbody tr th {\n",
       "        vertical-align: top;\n",
       "    }\n",
       "</style>\n",
       "<table border=\"1\" class=\"dataframe\">\n",
       "  <thead>\n",
       "    <tr style=\"text-align: right;\">\n",
       "      <th></th>\n",
       "      <th>0</th>\n",
       "    </tr>\n",
       "    <tr>\n",
       "      <th>V1</th>\n",
       "      <th></th>\n",
       "    </tr>\n",
       "  </thead>\n",
       "  <tbody>\n",
       "    <tr>\n",
       "      <th>1</th>\n",
       "      <td>59</td>\n",
       "    </tr>\n",
       "    <tr>\n",
       "      <th>2</th>\n",
       "      <td>71</td>\n",
       "    </tr>\n",
       "    <tr>\n",
       "      <th>3</th>\n",
       "      <td>48</td>\n",
       "    </tr>\n",
       "  </tbody>\n",
       "</table>\n",
       "</div>"
      ],
      "text/plain": [
       "     0\n",
       "V1    \n",
       "1   59\n",
       "2   71\n",
       "3   48"
      ]
     },
     "metadata": {},
     "output_type": "display_data"
    }
   ],
   "source": [
    "printMeanAndSdByGroup(standardisedX, y);"
   ]
  },
  {
   "cell_type": "code",
   "execution_count": 74,
   "metadata": {
    "collapsed": true
   },
   "outputs": [],
   "source": [
    "lda = LinearDiscriminantAnalysis().fit(X, y)"
   ]
  },
  {
   "cell_type": "code",
   "execution_count": 75,
   "metadata": {},
   "outputs": [
    {
     "name": "stdout",
     "output_type": "stream",
     "text": [
      "Coefficients of linear discriminants:\n"
     ]
    },
    {
     "data": {
      "text/html": [
       "<div>\n",
       "<style>\n",
       "    .dataframe thead tr:only-child th {\n",
       "        text-align: right;\n",
       "    }\n",
       "\n",
       "    .dataframe thead th {\n",
       "        text-align: left;\n",
       "    }\n",
       "\n",
       "    .dataframe tbody tr th {\n",
       "        vertical-align: top;\n",
       "    }\n",
       "</style>\n",
       "<table border=\"1\" class=\"dataframe\">\n",
       "  <thead>\n",
       "    <tr style=\"text-align: right;\">\n",
       "      <th></th>\n",
       "      <th>LD1</th>\n",
       "      <th>LD2</th>\n",
       "    </tr>\n",
       "  </thead>\n",
       "  <tbody>\n",
       "    <tr>\n",
       "      <th>V2</th>\n",
       "      <td>-0.403400</td>\n",
       "      <td>0.871793</td>\n",
       "    </tr>\n",
       "    <tr>\n",
       "      <th>V3</th>\n",
       "      <td>0.165255</td>\n",
       "      <td>0.305380</td>\n",
       "    </tr>\n",
       "    <tr>\n",
       "      <th>V4</th>\n",
       "      <td>-0.369075</td>\n",
       "      <td>2.345850</td>\n",
       "    </tr>\n",
       "    <tr>\n",
       "      <th>V5</th>\n",
       "      <td>0.154798</td>\n",
       "      <td>-0.146381</td>\n",
       "    </tr>\n",
       "    <tr>\n",
       "      <th>V6</th>\n",
       "      <td>-0.002163</td>\n",
       "      <td>-0.000463</td>\n",
       "    </tr>\n",
       "    <tr>\n",
       "      <th>V7</th>\n",
       "      <td>0.618052</td>\n",
       "      <td>-0.032213</td>\n",
       "    </tr>\n",
       "    <tr>\n",
       "      <th>V8</th>\n",
       "      <td>-1.661191</td>\n",
       "      <td>-0.491998</td>\n",
       "    </tr>\n",
       "    <tr>\n",
       "      <th>V9</th>\n",
       "      <td>-1.495818</td>\n",
       "      <td>-1.630954</td>\n",
       "    </tr>\n",
       "    <tr>\n",
       "      <th>V10</th>\n",
       "      <td>0.134093</td>\n",
       "      <td>-0.307088</td>\n",
       "    </tr>\n",
       "    <tr>\n",
       "      <th>V11</th>\n",
       "      <td>0.355056</td>\n",
       "      <td>0.253231</td>\n",
       "    </tr>\n",
       "    <tr>\n",
       "      <th>V12</th>\n",
       "      <td>-0.818036</td>\n",
       "      <td>-1.515634</td>\n",
       "    </tr>\n",
       "    <tr>\n",
       "      <th>V13</th>\n",
       "      <td>-1.157559</td>\n",
       "      <td>0.051184</td>\n",
       "    </tr>\n",
       "    <tr>\n",
       "      <th>V14</th>\n",
       "      <td>-0.002691</td>\n",
       "      <td>0.002853</td>\n",
       "    </tr>\n",
       "  </tbody>\n",
       "</table>\n",
       "</div>"
      ],
      "text/plain": [
       "          LD1       LD2\n",
       "V2  -0.403400  0.871793\n",
       "V3   0.165255  0.305380\n",
       "V4  -0.369075  2.345850\n",
       "V5   0.154798 -0.146381\n",
       "V6  -0.002163 -0.000463\n",
       "V7   0.618052 -0.032213\n",
       "V8  -1.661191 -0.491998\n",
       "V9  -1.495818 -1.630954\n",
       "V10  0.134093 -0.307088\n",
       "V11  0.355056  0.253231\n",
       "V12 -0.818036 -1.515634\n",
       "V13 -1.157559  0.051184\n",
       "V14 -0.002691  0.002853"
      ]
     },
     "metadata": {},
     "output_type": "display_data"
    }
   ],
   "source": [
    "def pretty_scalings(lda, X, out=False):\n",
    "    ret = pd.DataFrame(lda.scalings_, index=X.columns, columns=[\"LD\"+str(i+1) for i in range(lda.scalings_.shape[1])])\n",
    "    if out:\n",
    "        print(\"Coefficients of linear discriminants:\")\n",
    "        display(ret)\n",
    "    return ret\n",
    "\n",
    "pretty_scalings_ = pretty_scalings(lda, X, out=True)"
   ]
  },
  {
   "cell_type": "code",
   "execution_count": 76,
   "metadata": {},
   "outputs": [
    {
     "data": {
      "text/plain": [
       "array([-0.40339978,  0.1652546 , -0.36907526,  0.15479789, -0.0021635 ,\n",
       "        0.61805207, -1.66119123, -1.49581844,  0.13409263,  0.35505571,\n",
       "       -0.81803607, -1.15755938, -0.00269121])"
      ]
     },
     "execution_count": 76,
     "metadata": {},
     "output_type": "execute_result"
    }
   ],
   "source": [
    "lda.scalings_[:, 0]"
   ]
  },
  {
   "cell_type": "code",
   "execution_count": 77,
   "metadata": {},
   "outputs": [
    {
     "data": {
      "text/plain": [
       "V2    -0.403400\n",
       "V3     0.165255\n",
       "V4    -0.369075\n",
       "V5     0.154798\n",
       "V6    -0.002163\n",
       "V7     0.618052\n",
       "V8    -1.661191\n",
       "V9    -1.495818\n",
       "V10    0.134093\n",
       "V11    0.355056\n",
       "V12   -0.818036\n",
       "V13   -1.157559\n",
       "V14   -0.002691\n",
       "Name: LD1, dtype: float64"
      ]
     },
     "execution_count": 77,
     "metadata": {},
     "output_type": "execute_result"
    }
   ],
   "source": [
    "pretty_scalings_.LD1"
   ]
  },
  {
   "cell_type": "code",
   "execution_count": 78,
   "metadata": {
    "collapsed": true
   },
   "outputs": [],
   "source": [
    "def calclda(variables, loadings):\n",
    "    # find the number of samples in the data set and the number of variables\n",
    "    numsamples, numvariables = variables.shape\n",
    "    # make a vector to store the discriminant function\n",
    "    ld = np.zeros(numsamples)\n",
    "    # calculate the value of the discriminant function for each sample\n",
    "    for i in range(numsamples):\n",
    "        valuei = 0\n",
    "        for j in range(numvariables):\n",
    "            valueij = variables.iloc[i, j]\n",
    "            loadingj = loadings[j]\n",
    "            valuei = valuei + (valueij * loadingj)\n",
    "        ld[i] = valuei\n",
    "    # standardise the discriminant function so that its mean value is 0:\n",
    "    ld = scale(ld, with_std=False)\n",
    "    return ld"
   ]
  },
  {
   "cell_type": "code",
   "execution_count": 79,
   "metadata": {},
   "outputs": [
    {
     "data": {
      "text/plain": [
       "array([-4.70024401, -4.30195811, -3.42071952, -4.20575366, -1.50998168,\n",
       "       -4.51868934, -4.52737794, -4.14834781, -3.86082876, -3.36662444,\n",
       "       -4.80587907, -3.42807646, -3.66610246, -5.58824635, -5.50131449,\n",
       "       -3.18475189, -3.28936988, -2.99809262, -5.24640372, -3.13653106,\n",
       "       -3.57747791, -1.69077135, -4.83515033, -3.09588961, -3.32164716,\n",
       "       -2.14482223, -3.9824285 , -2.68591432, -3.56309464, -3.17301573,\n",
       "       -2.99626797, -3.56866244, -3.38506383, -3.5275375 , -2.85190852,\n",
       "       -2.79411996, -2.75808511, -2.17734477, -3.02926382, -3.27105228,\n",
       "       -2.92065533, -2.23721062, -4.69972568, -1.23036133, -2.58203904,\n",
       "       -2.58312049, -3.88887889, -3.44975356, -2.34223331, -3.52062596,\n",
       "       -3.21840912, -4.38214896, -4.36311727, -3.51917293, -3.12277475,\n",
       "       -1.8024054 , -2.87378754, -3.61690518, -3.73868551,  1.58618749,\n",
       "        0.79967216,  2.38015446, -0.45917726, -0.50726885,  0.39398359,\n",
       "       -0.92256616, -1.95549377, -0.34732815,  0.20371212, -0.24831914,\n",
       "        1.17987999, -1.07718925,  0.64100179, -1.74684421, -0.34721117,\n",
       "        1.14274222,  0.18665882,  0.900525  , -0.70709551, -0.59562833,\n",
       "       -0.55761818, -1.80430417,  0.23077079,  2.03482711, -0.62113021,\n",
       "       -1.03372742,  0.76598781,  0.35042568,  0.15324508, -0.14962842,\n",
       "        0.48079504,  1.39689016,  0.91972331, -0.59102937,  0.49411386,\n",
       "       -1.62614426,  2.00044562, -1.00534818, -2.07121314, -1.6381589 ,\n",
       "       -1.0589434 ,  0.02594549, -0.21887407,  1.3643764 , -1.12901245,\n",
       "       -0.21263094, -0.77946884,  0.61546732,  0.22550192, -2.03869851,\n",
       "        0.79274716,  0.30229545, -0.50664882,  0.99837397, -0.21954922,\n",
       "       -0.37131517,  0.05545894, -0.09137874,  1.79755252, -0.17405009,\n",
       "       -1.17870281, -3.2105439 ,  0.62605202,  0.03366613, -0.6993008 ,\n",
       "       -0.72061079, -0.51933512,  1.17030045,  0.10824791,  1.12319783,\n",
       "        2.24632419,  3.28527755,  4.07236441,  3.86691235,  3.45088333,\n",
       "        3.71583899,  3.9222051 ,  4.8516102 ,  3.54993389,  3.76889174,\n",
       "        2.6694225 ,  2.32491492,  3.17712883,  2.88964418,  3.78325562,\n",
       "        3.04411324,  4.70697017,  4.85021393,  4.98359184,  4.86968293,\n",
       "        4.5986919 ,  5.67447884,  5.32986123,  5.03401031,  4.52080087,\n",
       "        5.0978371 ,  5.04368277,  4.86980829,  5.61316558,  5.67046737,\n",
       "        5.37413513,  3.09975377,  3.35888137,  3.04007194,  4.94861303,\n",
       "        4.54504458,  5.27255844,  5.13016117,  4.30468082,  5.08336782,\n",
       "        4.06743571,  5.74212961,  4.4820514 ,  4.29150758,  4.50329623,\n",
       "        5.04747033,  4.27615505,  5.5380861 ])"
      ]
     },
     "execution_count": 79,
     "metadata": {},
     "output_type": "execute_result"
    }
   ],
   "source": [
    "calclda(X, lda.scalings_[:, 0])"
   ]
  },
  {
   "cell_type": "code",
   "execution_count": 80,
   "metadata": {},
   "outputs": [
    {
     "data": {
      "text/plain": [
       "array([-4.70024401, -4.30195811, -3.42071952, -4.20575366, -1.50998168,\n",
       "       -4.51868934, -4.52737794, -4.14834781, -3.86082876, -3.36662444,\n",
       "       -4.80587907, -3.42807646, -3.66610246, -5.58824635, -5.50131449,\n",
       "       -3.18475189, -3.28936988, -2.99809262, -5.24640372, -3.13653106,\n",
       "       -3.57747791, -1.69077135, -4.83515033, -3.09588961, -3.32164716,\n",
       "       -2.14482223, -3.9824285 , -2.68591432, -3.56309464, -3.17301573,\n",
       "       -2.99626797, -3.56866244, -3.38506383, -3.5275375 , -2.85190852,\n",
       "       -2.79411996, -2.75808511, -2.17734477, -3.02926382, -3.27105228,\n",
       "       -2.92065533, -2.23721062, -4.69972568, -1.23036133, -2.58203904,\n",
       "       -2.58312049, -3.88887889, -3.44975356, -2.34223331, -3.52062596,\n",
       "       -3.21840912, -4.38214896, -4.36311727, -3.51917293, -3.12277475,\n",
       "       -1.8024054 , -2.87378754, -3.61690518, -3.73868551,  1.58618749,\n",
       "        0.79967216,  2.38015446, -0.45917726, -0.50726885,  0.39398359,\n",
       "       -0.92256616, -1.95549377, -0.34732815,  0.20371212, -0.24831914,\n",
       "        1.17987999, -1.07718925,  0.64100179, -1.74684421, -0.34721117,\n",
       "        1.14274222,  0.18665882,  0.900525  , -0.70709551, -0.59562833,\n",
       "       -0.55761818, -1.80430417,  0.23077079,  2.03482711, -0.62113021,\n",
       "       -1.03372742,  0.76598781,  0.35042568,  0.15324508, -0.14962842,\n",
       "        0.48079504,  1.39689016,  0.91972331, -0.59102937,  0.49411386,\n",
       "       -1.62614426,  2.00044562, -1.00534818, -2.07121314, -1.6381589 ,\n",
       "       -1.0589434 ,  0.02594549, -0.21887407,  1.3643764 , -1.12901245,\n",
       "       -0.21263094, -0.77946884,  0.61546732,  0.22550192, -2.03869851,\n",
       "        0.79274716,  0.30229545, -0.50664882,  0.99837397, -0.21954922,\n",
       "       -0.37131517,  0.05545894, -0.09137874,  1.79755252, -0.17405009,\n",
       "       -1.17870281, -3.2105439 ,  0.62605202,  0.03366613, -0.6993008 ,\n",
       "       -0.72061079, -0.51933512,  1.17030045,  0.10824791,  1.12319783,\n",
       "        2.24632419,  3.28527755,  4.07236441,  3.86691235,  3.45088333,\n",
       "        3.71583899,  3.9222051 ,  4.8516102 ,  3.54993389,  3.76889174,\n",
       "        2.6694225 ,  2.32491492,  3.17712883,  2.88964418,  3.78325562,\n",
       "        3.04411324,  4.70697017,  4.85021393,  4.98359184,  4.86968293,\n",
       "        4.5986919 ,  5.67447884,  5.32986123,  5.03401031,  4.52080087,\n",
       "        5.0978371 ,  5.04368277,  4.86980829,  5.61316558,  5.67046737,\n",
       "        5.37413513,  3.09975377,  3.35888137,  3.04007194,  4.94861303,\n",
       "        4.54504458,  5.27255844,  5.13016117,  4.30468082,  5.08336782,\n",
       "        4.06743571,  5.74212961,  4.4820514 ,  4.29150758,  4.50329623,\n",
       "        5.04747033,  4.27615505,  5.5380861 ])"
      ]
     },
     "execution_count": 80,
     "metadata": {},
     "output_type": "execute_result"
    }
   ],
   "source": [
    "# Try either, they produce the same result, use help() for more info\n",
    "# lda.transform(X)[:, 0]\n",
    "lda.fit_transform(X, y)[:, 0]"
   ]
  },
  {
   "cell_type": "code",
   "execution_count": 81,
   "metadata": {
    "collapsed": true
   },
   "outputs": [],
   "source": [
    "def groupStandardise(variables, groupvariable):\n",
    "    # find the number of samples in the data set and the number of variables\n",
    "    numsamples, numvariables = variables.shape\n",
    "    # find the variable names\n",
    "    variablenames = variables.columns\n",
    "    # calculate the group-standardised version of each variable\n",
    "    variables_new = pd.DataFrame()\n",
    "    for i in range(numvariables):\n",
    "        variable_name = variablenames[i]\n",
    "        variablei = variables[variable_name]\n",
    "        variablei_Vw = calcWithinGroupsVariance(variablei, groupvariable)\n",
    "        variablei_mean = np.mean(variablei)\n",
    "        variablei_new = (variablei - variablei_mean)/(np.sqrt(variablei_Vw))\n",
    "        variables_new[variable_name] = variablei_new\n",
    "    return variables_new"
   ]
  },
  {
   "cell_type": "code",
   "execution_count": 82,
   "metadata": {
    "collapsed": true
   },
   "outputs": [],
   "source": [
    "groupstandardisedX = groupStandardise(X, y)"
   ]
  },
  {
   "cell_type": "code",
   "execution_count": 83,
   "metadata": {},
   "outputs": [
    {
     "data": {
      "text/html": [
       "<div>\n",
       "<style>\n",
       "    .dataframe thead tr:only-child th {\n",
       "        text-align: right;\n",
       "    }\n",
       "\n",
       "    .dataframe thead th {\n",
       "        text-align: left;\n",
       "    }\n",
       "\n",
       "    .dataframe tbody tr th {\n",
       "        vertical-align: top;\n",
       "    }\n",
       "</style>\n",
       "<table border=\"1\" class=\"dataframe\">\n",
       "  <thead>\n",
       "    <tr style=\"text-align: right;\">\n",
       "      <th></th>\n",
       "      <th>LD1</th>\n",
       "      <th>LD2</th>\n",
       "    </tr>\n",
       "  </thead>\n",
       "  <tbody>\n",
       "    <tr>\n",
       "      <th>V2</th>\n",
       "      <td>-0.206505</td>\n",
       "      <td>0.446280</td>\n",
       "    </tr>\n",
       "    <tr>\n",
       "      <th>V3</th>\n",
       "      <td>0.155686</td>\n",
       "      <td>0.287697</td>\n",
       "    </tr>\n",
       "    <tr>\n",
       "      <th>V4</th>\n",
       "      <td>-0.094869</td>\n",
       "      <td>0.602989</td>\n",
       "    </tr>\n",
       "    <tr>\n",
       "      <th>V5</th>\n",
       "      <td>0.438021</td>\n",
       "      <td>-0.414204</td>\n",
       "    </tr>\n",
       "    <tr>\n",
       "      <th>V6</th>\n",
       "      <td>-0.029079</td>\n",
       "      <td>-0.006220</td>\n",
       "    </tr>\n",
       "    <tr>\n",
       "      <th>V7</th>\n",
       "      <td>0.270302</td>\n",
       "      <td>-0.014088</td>\n",
       "    </tr>\n",
       "    <tr>\n",
       "      <th>V8</th>\n",
       "      <td>-0.870673</td>\n",
       "      <td>-0.257869</td>\n",
       "    </tr>\n",
       "    <tr>\n",
       "      <th>V9</th>\n",
       "      <td>-0.163255</td>\n",
       "      <td>-0.178004</td>\n",
       "    </tr>\n",
       "    <tr>\n",
       "      <th>V10</th>\n",
       "      <td>0.066531</td>\n",
       "      <td>-0.152364</td>\n",
       "    </tr>\n",
       "    <tr>\n",
       "      <th>V11</th>\n",
       "      <td>0.536701</td>\n",
       "      <td>0.382783</td>\n",
       "    </tr>\n",
       "    <tr>\n",
       "      <th>V12</th>\n",
       "      <td>-0.128011</td>\n",
       "      <td>-0.237175</td>\n",
       "    </tr>\n",
       "    <tr>\n",
       "      <th>V13</th>\n",
       "      <td>-0.464149</td>\n",
       "      <td>0.020523</td>\n",
       "    </tr>\n",
       "    <tr>\n",
       "      <th>V14</th>\n",
       "      <td>-0.463854</td>\n",
       "      <td>0.491738</td>\n",
       "    </tr>\n",
       "  </tbody>\n",
       "</table>\n",
       "</div>"
      ],
      "text/plain": [
       "          LD1       LD2\n",
       "V2  -0.206505  0.446280\n",
       "V3   0.155686  0.287697\n",
       "V4  -0.094869  0.602989\n",
       "V5   0.438021 -0.414204\n",
       "V6  -0.029079 -0.006220\n",
       "V7   0.270302 -0.014088\n",
       "V8  -0.870673 -0.257869\n",
       "V9  -0.163255 -0.178004\n",
       "V10  0.066531 -0.152364\n",
       "V11  0.536701  0.382783\n",
       "V12 -0.128011 -0.237175\n",
       "V13 -0.464149  0.020523\n",
       "V14 -0.463854  0.491738"
      ]
     },
     "execution_count": 83,
     "metadata": {},
     "output_type": "execute_result"
    }
   ],
   "source": [
    "lda2 = LinearDiscriminantAnalysis().fit(groupstandardisedX, y)\n",
    "pretty_scalings(lda2, groupstandardisedX)"
   ]
  },
  {
   "cell_type": "code",
   "execution_count": 84,
   "metadata": {},
   "outputs": [
    {
     "data": {
      "text/plain": [
       "array([-4.70024401, -4.30195811, -3.42071952, -4.20575366, -1.50998168,\n",
       "       -4.51868934, -4.52737794, -4.14834781, -3.86082876, -3.36662444,\n",
       "       -4.80587907, -3.42807646, -3.66610246, -5.58824635, -5.50131449,\n",
       "       -3.18475189, -3.28936988, -2.99809262, -5.24640372, -3.13653106,\n",
       "       -3.57747791, -1.69077135, -4.83515033, -3.09588961, -3.32164716,\n",
       "       -2.14482223, -3.9824285 , -2.68591432, -3.56309464, -3.17301573,\n",
       "       -2.99626797, -3.56866244, -3.38506383, -3.5275375 , -2.85190852,\n",
       "       -2.79411996, -2.75808511, -2.17734477, -3.02926382, -3.27105228,\n",
       "       -2.92065533, -2.23721062, -4.69972568, -1.23036133, -2.58203904,\n",
       "       -2.58312049, -3.88887889, -3.44975356, -2.34223331, -3.52062596,\n",
       "       -3.21840912, -4.38214896, -4.36311727, -3.51917293, -3.12277475,\n",
       "       -1.8024054 , -2.87378754, -3.61690518, -3.73868551,  1.58618749,\n",
       "        0.79967216,  2.38015446, -0.45917726, -0.50726885,  0.39398359,\n",
       "       -0.92256616, -1.95549377, -0.34732815,  0.20371212, -0.24831914,\n",
       "        1.17987999, -1.07718925,  0.64100179, -1.74684421, -0.34721117,\n",
       "        1.14274222,  0.18665882,  0.900525  , -0.70709551, -0.59562833,\n",
       "       -0.55761818, -1.80430417,  0.23077079,  2.03482711, -0.62113021,\n",
       "       -1.03372742,  0.76598781,  0.35042568,  0.15324508, -0.14962842,\n",
       "        0.48079504,  1.39689016,  0.91972331, -0.59102937,  0.49411386,\n",
       "       -1.62614426,  2.00044562, -1.00534818, -2.07121314, -1.6381589 ,\n",
       "       -1.0589434 ,  0.02594549, -0.21887407,  1.3643764 , -1.12901245,\n",
       "       -0.21263094, -0.77946884,  0.61546732,  0.22550192, -2.03869851,\n",
       "        0.79274716,  0.30229545, -0.50664882,  0.99837397, -0.21954922,\n",
       "       -0.37131517,  0.05545894, -0.09137874,  1.79755252, -0.17405009,\n",
       "       -1.17870281, -3.2105439 ,  0.62605202,  0.03366613, -0.6993008 ,\n",
       "       -0.72061079, -0.51933512,  1.17030045,  0.10824791,  1.12319783,\n",
       "        2.24632419,  3.28527755,  4.07236441,  3.86691235,  3.45088333,\n",
       "        3.71583899,  3.9222051 ,  4.8516102 ,  3.54993389,  3.76889174,\n",
       "        2.6694225 ,  2.32491492,  3.17712883,  2.88964418,  3.78325562,\n",
       "        3.04411324,  4.70697017,  4.85021393,  4.98359184,  4.86968293,\n",
       "        4.5986919 ,  5.67447884,  5.32986123,  5.03401031,  4.52080087,\n",
       "        5.0978371 ,  5.04368277,  4.86980829,  5.61316558,  5.67046737,\n",
       "        5.37413513,  3.09975377,  3.35888137,  3.04007194,  4.94861303,\n",
       "        4.54504458,  5.27255844,  5.13016117,  4.30468082,  5.08336782,\n",
       "        4.06743571,  5.74212961,  4.4820514 ,  4.29150758,  4.50329623,\n",
       "        5.04747033,  4.27615505,  5.5380861 ])"
      ]
     },
     "execution_count": 84,
     "metadata": {},
     "output_type": "execute_result"
    }
   ],
   "source": [
    "lda.fit_transform(X, y)[:, 0]"
   ]
  },
  {
   "cell_type": "code",
   "execution_count": 85,
   "metadata": {},
   "outputs": [
    {
     "data": {
      "text/plain": [
       "array([-4.70024401, -4.30195811, -3.42071952, -4.20575366, -1.50998168,\n",
       "       -4.51868934, -4.52737794, -4.14834781, -3.86082876, -3.36662444,\n",
       "       -4.80587907, -3.42807646, -3.66610246, -5.58824635, -5.50131449,\n",
       "       -3.18475189, -3.28936988, -2.99809262, -5.24640372, -3.13653106,\n",
       "       -3.57747791, -1.69077135, -4.83515033, -3.09588961, -3.32164716,\n",
       "       -2.14482223, -3.9824285 , -2.68591432, -3.56309464, -3.17301573,\n",
       "       -2.99626797, -3.56866244, -3.38506383, -3.5275375 , -2.85190852,\n",
       "       -2.79411996, -2.75808511, -2.17734477, -3.02926382, -3.27105228,\n",
       "       -2.92065533, -2.23721062, -4.69972568, -1.23036133, -2.58203904,\n",
       "       -2.58312049, -3.88887889, -3.44975356, -2.34223331, -3.52062596,\n",
       "       -3.21840912, -4.38214896, -4.36311727, -3.51917293, -3.12277475,\n",
       "       -1.8024054 , -2.87378754, -3.61690518, -3.73868551,  1.58618749,\n",
       "        0.79967216,  2.38015446, -0.45917726, -0.50726885,  0.39398359,\n",
       "       -0.92256616, -1.95549377, -0.34732815,  0.20371212, -0.24831914,\n",
       "        1.17987999, -1.07718925,  0.64100179, -1.74684421, -0.34721117,\n",
       "        1.14274222,  0.18665882,  0.900525  , -0.70709551, -0.59562833,\n",
       "       -0.55761818, -1.80430417,  0.23077079,  2.03482711, -0.62113021,\n",
       "       -1.03372742,  0.76598781,  0.35042568,  0.15324508, -0.14962842,\n",
       "        0.48079504,  1.39689016,  0.91972331, -0.59102937,  0.49411386,\n",
       "       -1.62614426,  2.00044562, -1.00534818, -2.07121314, -1.6381589 ,\n",
       "       -1.0589434 ,  0.02594549, -0.21887407,  1.3643764 , -1.12901245,\n",
       "       -0.21263094, -0.77946884,  0.61546732,  0.22550192, -2.03869851,\n",
       "        0.79274716,  0.30229545, -0.50664882,  0.99837397, -0.21954922,\n",
       "       -0.37131517,  0.05545894, -0.09137874,  1.79755252, -0.17405009,\n",
       "       -1.17870281, -3.2105439 ,  0.62605202,  0.03366613, -0.6993008 ,\n",
       "       -0.72061079, -0.51933512,  1.17030045,  0.10824791,  1.12319783,\n",
       "        2.24632419,  3.28527755,  4.07236441,  3.86691235,  3.45088333,\n",
       "        3.71583899,  3.9222051 ,  4.8516102 ,  3.54993389,  3.76889174,\n",
       "        2.6694225 ,  2.32491492,  3.17712883,  2.88964418,  3.78325562,\n",
       "        3.04411324,  4.70697017,  4.85021393,  4.98359184,  4.86968293,\n",
       "        4.5986919 ,  5.67447884,  5.32986123,  5.03401031,  4.52080087,\n",
       "        5.0978371 ,  5.04368277,  4.86980829,  5.61316558,  5.67046737,\n",
       "        5.37413513,  3.09975377,  3.35888137,  3.04007194,  4.94861303,\n",
       "        4.54504458,  5.27255844,  5.13016117,  4.30468082,  5.08336782,\n",
       "        4.06743571,  5.74212961,  4.4820514 ,  4.29150758,  4.50329623,\n",
       "        5.04747033,  4.27615505,  5.5380861 ])"
      ]
     },
     "execution_count": 85,
     "metadata": {},
     "output_type": "execute_result"
    }
   ],
   "source": [
    "lda2.fit_transform(groupstandardisedX, y)[:, 0]"
   ]
  },
  {
   "cell_type": "code",
   "execution_count": 86,
   "metadata": {},
   "outputs": [
    {
     "name": "stdout",
     "output_type": "stream",
     "text": [
      "class\n",
      "['2' '2' '2' '2' '2' '2' '2' '2' '2' '2' '2' '2' '2' '2' '2' '2' '2' '2'\n",
      " '2' '2' '2' '2' '2' '2' '2' '2' '2' '2' '2' '2' '2' '2' '2' '2' '2' '2'\n",
      " '2' '2' '2' '2' '2' '2' '2' '2' '2' '2' '2' '2' '2' '2' '2' '2' '2' '2'\n",
      " '2' '2' '2' '2' '2' '2' '2' '2' '2' '2' '2' '2' '2' '2' '2' '2' '2' '2'\n",
      " '2' '2' '2' '2' '2' '2' '2' '2' '2' '2' '2' '2' '2' '2' '2' '2' '2' '2'\n",
      " '2' '2' '2' '2' '2' '2' '3' '2' '2' '2' '2' '2' '2' '2' '2' '2' '2' '2'\n",
      " '2' '2' '2' '2' '2' '2' '2' '2' '2' '2' '2' '2' '2' '2' '2' '2' '2' '2'\n",
      " '2' '2' '2' '2' '3' '3' '3' '3' '2' '2' '2' '2' '2' '2' '2' '2' '2' '2'\n",
      " '3' '2' '3' '3' '3' '3' '3' '3' '3' '2' '2' '2' '3' '2' '3' '3' '2' '2'\n",
      " '2' '2' '3' '2' '3' '3' '3' '3' '2' '2' '3' '3' '3' '3' '2' '3']\n",
      "\n",
      "posterior\n",
      "                1         2         3\n",
      "0    1.344367e-22  0.999236  0.000764\n",
      "1    4.489007e-27  0.983392  0.016608\n",
      "2    2.228888e-24  0.791616  0.208384\n",
      "3    1.026755e-24  0.500161  0.499839\n",
      "4    6.371860e-23  0.790657  0.209343\n",
      "5    1.552082e-24  0.981986  0.018014\n",
      "6    3.354960e-23  0.951823  0.048177\n",
      "7    3.417899e-22  0.925154  0.074846\n",
      "8    4.041139e-26  0.978998  0.021002\n",
      "9    3.718868e-26  0.619841  0.380159\n",
      "..            ...       ...       ...\n",
      "168  7.463695e-30  0.500000  0.500000\n",
      "169  1.389203e-29  0.499927  0.500073\n",
      "170  1.356187e-33  0.500000  0.500000\n",
      "171  1.007615e-33  0.500000  0.500000\n",
      "172  1.524219e-30  0.500000  0.500000\n",
      "173  1.317492e-30  0.500000  0.500000\n",
      "174  2.664128e-32  0.500000  0.500000\n",
      "175  2.873436e-34  0.500000  0.500000\n",
      "176  1.479166e-32  0.500000  0.500000\n",
      "177  1.209888e-28  0.500000  0.500000\n",
      "\n",
      "[178 rows x 3 columns]\n",
      "\n",
      "x\n",
      "          LD1       LD2\n",
      "0   -4.700244  1.979138\n",
      "1   -4.301958  1.170413\n",
      "2   -3.420720  1.429101\n",
      "3   -4.205754  4.002871\n",
      "4   -1.509982  0.451224\n",
      "5   -4.518689  3.213138\n",
      "6   -4.527378  3.269122\n",
      "7   -4.148348  3.104118\n",
      "8   -3.860829  1.953383\n",
      "9   -3.366624  1.678643\n",
      "..        ...       ...\n",
      "168  4.304681  2.391125\n",
      "169  5.083368  3.157667\n",
      "170  4.067436  0.318922\n",
      "171  5.742130  1.467082\n",
      "172  4.482051  3.307084\n",
      "173  4.291508  3.390332\n",
      "174  4.503296  2.083546\n",
      "175  5.047470  3.196231\n",
      "176  4.276155  2.431388\n",
      "177  5.538086  3.042057\n",
      "\n",
      "[178 rows x 2 columns]\n"
     ]
    }
   ],
   "source": [
    "def rpredict(lda, X, y, out=False):\n",
    "    ret = {\"class\": lda.predict(X),\n",
    "           \"posterior\": pd.DataFrame(lda.predict_proba(X), columns=lda.classes_)}\n",
    "    ret[\"x\"] = pd.DataFrame(lda.fit_transform(X, y))\n",
    "    ret[\"x\"].columns = [\"LD\"+str(i+1) for i in range(ret[\"x\"].shape[1])]\n",
    "    if out:\n",
    "        print(\"class\")\n",
    "        print(ret[\"class\"])\n",
    "        print()\n",
    "        print(\"posterior\")\n",
    "        print(ret[\"posterior\"])\n",
    "        print()\n",
    "        print(\"x\")\n",
    "        print(ret[\"x\"])\n",
    "    return ret\n",
    "\n",
    "lda_values = rpredict(lda, standardisedX, y, True)"
   ]
  },
  {
   "cell_type": "code",
   "execution_count": 87,
   "metadata": {},
   "outputs": [
    {
     "name": "stdout",
     "output_type": "stream",
     "text": [
      "variable LD1 Vw= 0.9999999999999997 Vb= 794.6522005662156 separation= 794.6522005662158\n",
      "variable LD2 Vw= 0.9999999999999993 Vb= 361.2410414934542 separation= 361.2410414934544\n"
     ]
    }
   ],
   "source": [
    "calcSeparations(lda_values[\"x\"], y)"
   ]
  },
  {
   "cell_type": "code",
   "execution_count": 88,
   "metadata": {},
   "outputs": [
    {
     "name": "stdout",
     "output_type": "stream",
     "text": [
      "Proportion of trace:\n",
      "LD1     LD2\n",
      "0.6875  0.3125\n"
     ]
    }
   ],
   "source": [
    "def proportion_of_trace(lda):\n",
    "    ret = pd.DataFrame([round(i, 4) for i in lda.explained_variance_ratio_ if round(i, 4) > 0], columns=[\"ExplainedVariance\"])\n",
    "    ret.index = [\"LD\"+str(i+1) for i in range(ret.shape[0])]\n",
    "    ret = ret.transpose()\n",
    "    print(\"Proportion of trace:\")\n",
    "    print(ret.to_string(index=False))\n",
    "    return ret\n",
    "\n",
    "proportion_of_trace(LinearDiscriminantAnalysis(solver=\"eigen\").fit(X, y));"
   ]
  },
  {
   "cell_type": "code",
   "execution_count": 89,
   "metadata": {
    "collapsed": true
   },
   "outputs": [],
   "source": [
    "def ldahist(data, g, sep=False):\n",
    "    xmin = np.trunc(np.min(data)) - 1\n",
    "    xmax = np.trunc(np.max(data)) + 1\n",
    "    ncol = len(set(g))\n",
    "    binwidth = 0.5\n",
    "    bins=np.arange(xmin, xmax + binwidth, binwidth)\n",
    "    if sep:\n",
    "        fig, axl = plt.subplots(ncol, 1, sharey=True, sharex=True)\n",
    "    else:\n",
    "        fig, axl = plt.subplots(1, 1, sharey=True, sharex=True)\n",
    "        axl = [axl]*ncol\n",
    "    for ax, (group, gdata) in zip(axl, data.groupby(g)):\n",
    "        sns.distplot(gdata.values, bins, ax=ax, label=\"group \"+str(group))\n",
    "        ax.set_xlim([xmin, xmax])\n",
    "        if sep:\n",
    "            ax.set_xlabel(\"group\"+str(group))\n",
    "        else:\n",
    "            ax.legend(loc='center left', bbox_to_anchor=(1, 0.5))\n",
    "    plt.tight_layout()"
   ]
  },
  {
   "cell_type": "code",
   "execution_count": 92,
   "metadata": {},
   "outputs": [
    {
     "data": {
      "image/png": "[encoded data removed]",
      "text/plain": [
       "<matplotlib.figure.Figure at 0x1165a8dd8>"
      ]
     },
     "metadata": {},
     "output_type": "display_data"
    }
   ],
   "source": [
    "ldahist(lda_values[\"x\"].LD1, y)\n",
    "plt.show()"
   ]
  },
  {
   "cell_type": "code",
   "execution_count": 96,
   "metadata": {},
   "outputs": [
    {
     "data": {
      "image/png": "[encoded data removed]",
      "text/plain": [
       "<matplotlib.figure.Figure at 0x115208320>"
      ]
     },
     "metadata": {},
     "output_type": "display_data"
    }
   ],
   "source": [
    "ldahist(lda_values[\"x\"].LD2, y)\n",
    "plt.show()"
   ]
  },
  {
   "cell_type": "code",
   "execution_count": 99,
   "metadata": {},
   "outputs": [
    {
     "data": {
      "image/png": "[encoded data removed]",
      "text/plain": [
       "<matplotlib.figure.Figure at 0x1154849b0>"
      ]
     },
     "metadata": {},
     "output_type": "display_data"
    }
   ],
   "source": [
    "sns.lmplot(\"LD1\", \"LD2\", lda_values[\"x\"].join(y), hue=\"V1\", fit_reg=False)\n",
    "plt.show()"
   ]
  },
  {
   "cell_type": "code",
   "execution_count": 100,
   "metadata": {},
   "outputs": [
    {
     "name": "stdout",
     "output_type": "stream",
     "text": [
      "## Means:\n"
     ]
    },
    {
     "data": {
      "text/html": [
       "<div>\n",
       "<style>\n",
       "    .dataframe thead tr:only-child th {\n",
       "        text-align: right;\n",
       "    }\n",
       "\n",
       "    .dataframe thead th {\n",
       "        text-align: left;\n",
       "    }\n",
       "\n",
       "    .dataframe tbody tr th {\n",
       "        vertical-align: top;\n",
       "    }\n",
       "</style>\n",
       "<table border=\"1\" class=\"dataframe\">\n",
       "  <thead>\n",
       "    <tr style=\"text-align: right;\">\n",
       "      <th></th>\n",
       "      <th>LD1</th>\n",
       "      <th>LD2</th>\n",
       "    </tr>\n",
       "    <tr>\n",
       "      <th>V1</th>\n",
       "      <th></th>\n",
       "      <th></th>\n",
       "    </tr>\n",
       "  </thead>\n",
       "  <tbody>\n",
       "    <tr>\n",
       "      <th>1</th>\n",
       "      <td>-3.422489</td>\n",
       "      <td>1.691674</td>\n",
       "    </tr>\n",
       "    <tr>\n",
       "      <th>2</th>\n",
       "      <td>-0.079726</td>\n",
       "      <td>-2.472656</td>\n",
       "    </tr>\n",
       "    <tr>\n",
       "      <th>3</th>\n",
       "      <td>4.324737</td>\n",
       "      <td>1.578120</td>\n",
       "    </tr>\n",
       "  </tbody>\n",
       "</table>\n",
       "</div>"
      ],
      "text/plain": [
       "         LD1       LD2\n",
       "V1                    \n",
       "1  -3.422489  1.691674\n",
       "2  -0.079726 -2.472656\n",
       "3   4.324737  1.578120"
      ]
     },
     "metadata": {},
     "output_type": "display_data"
    },
    {
     "name": "stdout",
     "output_type": "stream",
     "text": [
      "\n",
      "## Standard deviations:\n"
     ]
    },
    {
     "data": {
      "text/html": [
       "<div>\n",
       "<style>\n",
       "    .dataframe thead tr:only-child th {\n",
       "        text-align: right;\n",
       "    }\n",
       "\n",
       "    .dataframe thead th {\n",
       "        text-align: left;\n",
       "    }\n",
       "\n",
       "    .dataframe tbody tr th {\n",
       "        vertical-align: top;\n",
       "    }\n",
       "</style>\n",
       "<table border=\"1\" class=\"dataframe\">\n",
       "  <thead>\n",
       "    <tr style=\"text-align: right;\">\n",
       "      <th></th>\n",
       "      <th>LD1</th>\n",
       "      <th>LD2</th>\n",
       "    </tr>\n",
       "    <tr>\n",
       "      <th>V1</th>\n",
       "      <th></th>\n",
       "      <th></th>\n",
       "    </tr>\n",
       "  </thead>\n",
       "  <tbody>\n",
       "    <tr>\n",
       "      <th>1</th>\n",
       "      <td>0.931467</td>\n",
       "      <td>1.008978</td>\n",
       "    </tr>\n",
       "    <tr>\n",
       "      <th>2</th>\n",
       "      <td>1.076271</td>\n",
       "      <td>0.990268</td>\n",
       "    </tr>\n",
       "    <tr>\n",
       "      <th>3</th>\n",
       "      <td>0.930571</td>\n",
       "      <td>0.971586</td>\n",
       "    </tr>\n",
       "  </tbody>\n",
       "</table>\n",
       "</div>"
      ],
      "text/plain": [
       "         LD1       LD2\n",
       "V1                    \n",
       "1   0.931467  1.008978\n",
       "2   1.076271  0.990268\n",
       "3   0.930571  0.971586"
      ]
     },
     "metadata": {},
     "output_type": "display_data"
    },
    {
     "name": "stdout",
     "output_type": "stream",
     "text": [
      "\n",
      "## Sample sizes:\n"
     ]
    },
    {
     "data": {
      "text/html": [
       "<div>\n",
       "<style>\n",
       "    .dataframe thead tr:only-child th {\n",
       "        text-align: right;\n",
       "    }\n",
       "\n",
       "    .dataframe thead th {\n",
       "        text-align: left;\n",
       "    }\n",
       "\n",
       "    .dataframe tbody tr th {\n",
       "        vertical-align: top;\n",
       "    }\n",
       "</style>\n",
       "<table border=\"1\" class=\"dataframe\">\n",
       "  <thead>\n",
       "    <tr style=\"text-align: right;\">\n",
       "      <th></th>\n",
       "      <th>0</th>\n",
       "    </tr>\n",
       "    <tr>\n",
       "      <th>V1</th>\n",
       "      <th></th>\n",
       "    </tr>\n",
       "  </thead>\n",
       "  <tbody>\n",
       "    <tr>\n",
       "      <th>1</th>\n",
       "      <td>59</td>\n",
       "    </tr>\n",
       "    <tr>\n",
       "      <th>2</th>\n",
       "      <td>71</td>\n",
       "    </tr>\n",
       "    <tr>\n",
       "      <th>3</th>\n",
       "      <td>48</td>\n",
       "    </tr>\n",
       "  </tbody>\n",
       "</table>\n",
       "</div>"
      ],
      "text/plain": [
       "     0\n",
       "V1    \n",
       "1   59\n",
       "2   71\n",
       "3   48"
      ]
     },
     "metadata": {},
     "output_type": "display_data"
    }
   ],
   "source": [
    "printMeanAndSdByGroup(lda_values[\"x\"], y)"
   ]
  },
  {
   "cell_type": "code",
   "execution_count": 101,
   "metadata": {
    "collapsed": true
   },
   "outputs": [],
   "source": [
    "def calcAllocationRuleAccuracy(ldavalue, groupvariable, cutoffpoints):\n",
    "    # find out how many values the group variable can take\n",
    "    levels = sorted(set((groupvariable)))\n",
    "    numlevels = len(levels)\n",
    "    confusion_matrix = []\n",
    "    # calculate the number of true positives and false negatives for each group\n",
    "    for i, leveli in enumerate(levels):\n",
    "        levelidata = ldavalue[groupvariable==leveli]\n",
    "        row = []\n",
    "        # see how many of the samples from this group are classified in each group\n",
    "        for j, levelj in enumerate(levels):\n",
    "            if j == 0:\n",
    "                cutoff1 = cutoffpoints[0]\n",
    "                cutoff2 = \"NA\"\n",
    "                results = (levelidata <= cutoff1).value_counts()\n",
    "            elif j == numlevels-1:\n",
    "                cutoff1 = cutoffpoints[numlevels-2]\n",
    "                cutoff2 = \"NA\"\n",
    "                results = (levelidata > cutoff1).value_counts()\n",
    "            else:\n",
    "                cutoff1 = cutoffpoints[j-1]\n",
    "                cutoff2 = cutoffpoints[j]\n",
    "                results = ((levelidata > cutoff1) & (levelidata <= cutoff2)).value_counts()\n",
    "            try:\n",
    "                trues = results[True]\n",
    "            except KeyError:\n",
    "                trues = 0\n",
    "            print(\"Number of samples of group\", leveli, \"classified as group\", levelj, \":\", trues, \"(cutoffs:\", cutoff1, \",\", cutoff2, \")\")\n",
    "            row.append(trues)\n",
    "        confusion_matrix.append(row)\n",
    "    return confusion_matrix"
   ]
  },
  {
   "cell_type": "code",
   "execution_count": 102,
   "metadata": {},
   "outputs": [
    {
     "name": "stdout",
     "output_type": "stream",
     "text": [
      "Number of samples of group 1 classified as group 1 : 56 (cutoffs: -1.751107 , NA )\n",
      "Number of samples of group 1 classified as group 2 : 3 (cutoffs: -1.751107 , 2.122505 )\n",
      "Number of samples of group 1 classified as group 3 : 0 (cutoffs: 2.122505 , NA )\n",
      "Number of samples of group 2 classified as group 1 : 5 (cutoffs: -1.751107 , NA )\n",
      "Number of samples of group 2 classified as group 2 : 65 (cutoffs: -1.751107 , 2.122505 )\n",
      "Number of samples of group 2 classified as group 3 : 1 (cutoffs: 2.122505 , NA )\n",
      "Number of samples of group 3 classified as group 1 : 0 (cutoffs: -1.751107 , NA )\n",
      "Number of samples of group 3 classified as group 2 : 0 (cutoffs: -1.751107 , 2.122505 )\n",
      "Number of samples of group 3 classified as group 3 : 48 (cutoffs: 2.122505 , NA )\n"
     ]
    }
   ],
   "source": [
    "confusion_matrix = calcAllocationRuleAccuracy(lda_values[\"x\"].iloc[:, 0], y, [-1.751107, 2.122505])"
   ]
  },
  {
   "cell_type": "code",
   "execution_count": 103,
   "metadata": {},
   "outputs": [
    {
     "data": {
      "text/html": [
       "<div>\n",
       "<style>\n",
       "    .dataframe thead tr:only-child th {\n",
       "        text-align: right;\n",
       "    }\n",
       "\n",
       "    .dataframe thead th {\n",
       "        text-align: left;\n",
       "    }\n",
       "\n",
       "    .dataframe tbody tr th {\n",
       "        vertical-align: top;\n",
       "    }\n",
       "</style>\n",
       "<table border=\"1\" class=\"dataframe\">\n",
       "  <thead>\n",
       "    <tr style=\"text-align: right;\">\n",
       "      <th></th>\n",
       "      <th>Allocated to group 1</th>\n",
       "      <th>Allocated to group 2</th>\n",
       "      <th>Allocated to group 3</th>\n",
       "    </tr>\n",
       "  </thead>\n",
       "  <tbody>\n",
       "    <tr>\n",
       "      <th>Is group 1</th>\n",
       "      <td>56</td>\n",
       "      <td>3</td>\n",
       "      <td>0</td>\n",
       "    </tr>\n",
       "    <tr>\n",
       "      <th>Is group 2</th>\n",
       "      <td>5</td>\n",
       "      <td>65</td>\n",
       "      <td>1</td>\n",
       "    </tr>\n",
       "    <tr>\n",
       "      <th>Is group 3</th>\n",
       "      <td>0</td>\n",
       "      <td>0</td>\n",
       "      <td>48</td>\n",
       "    </tr>\n",
       "  </tbody>\n",
       "</table>\n",
       "</div>"
      ],
      "text/plain": [
       "            Allocated to group 1  Allocated to group 2  Allocated to group 3\n",
       "Is group 1                    56                     3                     0\n",
       "Is group 2                     5                    65                     1\n",
       "Is group 3                     0                     0                    48"
      ]
     },
     "metadata": {},
     "output_type": "display_data"
    }
   ],
   "source": [
    "def webprint_confusion_matrix(confusion_matrix, classes_names):\n",
    "    display(pd.DataFrame(confusion_matrix, index=[\"Is group \"+i for i in classes_names], columns=[\"Allocated to group \"+i for i in classes_names]))\n",
    "\n",
    "webprint_confusion_matrix(confusion_matrix, lda.classes_)"
   ]
  },
  {
   "cell_type": "code",
   "execution_count": 104,
   "metadata": {
    "collapsed": true
   },
   "outputs": [],
   "source": [
    "import sklearn.metrics as metrics\n",
    "\n",
    "def lda_classify(v, levels, cutoffpoints):\n",
    "    for level, cutoff in zip(reversed(levels), reversed(cutoffpoints)):\n",
    "        if v > cutoff: return level\n",
    "    return levels[0]\n",
    "    \n",
    "y_pred = lda_values[\"x\"].iloc[:, 0].apply(lda_classify, args=(lda.classes_, [-1.751107, 2.122505],)).values\n",
    "y_true = y"
   ]
  },
  {
   "cell_type": "code",
   "execution_count": 106,
   "metadata": {},
   "outputs": [
    {
     "name": "stdout",
     "output_type": "stream",
     "text": [
      "             precision    recall  f1-score   support\n",
      "\n",
      "          1       0.92      0.95      0.93        59\n",
      "          2       0.96      0.92      0.94        71\n",
      "          3       0.98      1.00      0.99        48\n",
      "\n",
      "avg / total       0.95      0.95      0.95       178\n",
      "\n"
     ]
    },
    {
     "data": {
      "text/html": [
       "<div>\n",
       "<style>\n",
       "    .dataframe thead tr:only-child th {\n",
       "        text-align: right;\n",
       "    }\n",
       "\n",
       "    .dataframe thead th {\n",
       "        text-align: left;\n",
       "    }\n",
       "\n",
       "    .dataframe tbody tr th {\n",
       "        vertical-align: top;\n",
       "    }\n",
       "</style>\n",
       "<table border=\"1\" class=\"dataframe\">\n",
       "  <thead>\n",
       "    <tr style=\"text-align: right;\">\n",
       "      <th></th>\n",
       "      <th>Allocated to group 1</th>\n",
       "      <th>Allocated to group 2</th>\n",
       "      <th>Allocated to group 3</th>\n",
       "    </tr>\n",
       "  </thead>\n",
       "  <tbody>\n",
       "    <tr>\n",
       "      <th>Is group 1</th>\n",
       "      <td>56</td>\n",
       "      <td>3</td>\n",
       "      <td>0</td>\n",
       "    </tr>\n",
       "    <tr>\n",
       "      <th>Is group 2</th>\n",
       "      <td>5</td>\n",
       "      <td>65</td>\n",
       "      <td>1</td>\n",
       "    </tr>\n",
       "    <tr>\n",
       "      <th>Is group 3</th>\n",
       "      <td>0</td>\n",
       "      <td>0</td>\n",
       "      <td>48</td>\n",
       "    </tr>\n",
       "  </tbody>\n",
       "</table>\n",
       "</div>"
      ],
      "text/plain": [
       "            Allocated to group 1  Allocated to group 2  Allocated to group 3\n",
       "Is group 1                    56                     3                     0\n",
       "Is group 2                     5                    65                     1\n",
       "Is group 3                     0                     0                    48"
      ]
     },
     "metadata": {},
     "output_type": "display_data"
    },
    {
     "data": {
      "image/png": "[encoded data removed]",
      "text/plain": [
       "<matplotlib.figure.Figure at 0x1165b1748>"
      ]
     },
     "metadata": {},
     "output_type": "display_data"
    }
   ],
   "source": [
    "def plot_confusion_matrix(cm, target_names, title='Confusion matrix', cmap=plt.cm.Blues):\n",
    "    plt.imshow(cm, interpolation='nearest', cmap=cmap)\n",
    "    plt.title(title)\n",
    "    plt.colorbar()\n",
    "    tick_marks = np.arange(len(target_names))\n",
    "    plt.xticks(tick_marks, target_names, rotation=45)\n",
    "    plt.yticks(tick_marks, target_names)\n",
    "    plt.tight_layout()\n",
    "    plt.ylabel('True label')\n",
    "    plt.xlabel('Predicted label')\n",
    "\n",
    "print(metrics.classification_report(y_true, y_pred))\n",
    "cm = metrics.confusion_matrix(y_true, y_pred)\n",
    "webprint_confusion_matrix(cm, lda.classes_)\n",
    "cm_normalized = cm.astype('float') / cm.sum(axis=1)[:, np.newaxis]\n",
    "plot_confusion_matrix(cm_normalized, lda.classes_, title='Normalized confusion matrix')\n",
    "plt.show()"
   ]
  }
 ],
 "metadata": {
  "kernelspec": {
   "display_name": "Python 3",
   "language": "python",
   "name": "python3"
  },
  "language_info": {
   "codemirror_mode": {
    "name": "ipython",
    "version": 3
   },
   "file_extension": ".py",
   "mimetype": "text/x-python",
   "name": "python",
   "nbconvert_exporter": "python",
   "pygments_lexer": "ipython3",
   "version": "3.6.2"
  }
 },
 "nbformat": 4,
 "nbformat_minor": 2
}
